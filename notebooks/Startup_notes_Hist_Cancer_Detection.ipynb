{
 "cells": [
  {
   "cell_type": "markdown",
   "metadata": {
    "ExecuteTime": {
     "end_time": "2019-09-11T11:40:30.506057Z",
     "start_time": "2019-09-11T11:40:30.499792Z"
    }
   },
   "source": [
    "# Histopathologic Cancer Detection \n",
    "#### Aim: Create algorithm to identify metastatic cancer from small image patches taken from the larger digital pathology scans. \n",
    "#### These images are taken from the modified version of PathCamelon (PCam) benchmark dataset (duplicate entries have been removed, NB: duplicate entries existed owing to probabilistic sampling)\n",
    "\n",
    " Data description: Dataset contains large number of small pathology images to classify. Files are named with an image \"id\"\n",
    " The train_labels.csv file provides the ground truh for the images in the train folder. \n",
    " We are predicting labels for the images in the test folder.\n",
    " A positive label indicates that the center 32x32px region of a patch contains atleast 1 pixel of tumor tissue. \n",
    " Tumor tissue in the outer region of the patch does not influence the label. The outer region is provided to enable fully convolutional models which do not use padding to ensure consistend behaviour when applied to the whole slide. \n",
    " \n",
    " \n",
    " Run the following cell to run all the packages and dependencies "
   ]
  },
  {
   "cell_type": "code",
   "execution_count": 1,
   "metadata": {
    "ExecuteTime": {
     "end_time": "2019-10-21T04:00:32.531420Z",
     "start_time": "2019-10-21T04:00:31.116438Z"
    }
   },
   "outputs": [
    {
     "name": "stderr",
     "output_type": "stream",
     "text": [
      "Using TensorFlow backend.\n",
      "/home/bithika/local/anaconda3/envs/tf_gpu/lib/python3.7/site-packages/tensorflow/python/framework/dtypes.py:516: FutureWarning: Passing (type, 1) or '1type' as a synonym of type is deprecated; in a future version of numpy, it will be understood as (type, (1,)) / '(1,)type'.\n",
      "  _np_qint8 = np.dtype([(\"qint8\", np.int8, 1)])\n",
      "/home/bithika/local/anaconda3/envs/tf_gpu/lib/python3.7/site-packages/tensorflow/python/framework/dtypes.py:517: FutureWarning: Passing (type, 1) or '1type' as a synonym of type is deprecated; in a future version of numpy, it will be understood as (type, (1,)) / '(1,)type'.\n",
      "  _np_quint8 = np.dtype([(\"quint8\", np.uint8, 1)])\n",
      "/home/bithika/local/anaconda3/envs/tf_gpu/lib/python3.7/site-packages/tensorflow/python/framework/dtypes.py:518: FutureWarning: Passing (type, 1) or '1type' as a synonym of type is deprecated; in a future version of numpy, it will be understood as (type, (1,)) / '(1,)type'.\n",
      "  _np_qint16 = np.dtype([(\"qint16\", np.int16, 1)])\n",
      "/home/bithika/local/anaconda3/envs/tf_gpu/lib/python3.7/site-packages/tensorflow/python/framework/dtypes.py:519: FutureWarning: Passing (type, 1) or '1type' as a synonym of type is deprecated; in a future version of numpy, it will be understood as (type, (1,)) / '(1,)type'.\n",
      "  _np_quint16 = np.dtype([(\"quint16\", np.uint16, 1)])\n",
      "/home/bithika/local/anaconda3/envs/tf_gpu/lib/python3.7/site-packages/tensorflow/python/framework/dtypes.py:520: FutureWarning: Passing (type, 1) or '1type' as a synonym of type is deprecated; in a future version of numpy, it will be understood as (type, (1,)) / '(1,)type'.\n",
      "  _np_qint32 = np.dtype([(\"qint32\", np.int32, 1)])\n",
      "/home/bithika/local/anaconda3/envs/tf_gpu/lib/python3.7/site-packages/tensorflow/python/framework/dtypes.py:525: FutureWarning: Passing (type, 1) or '1type' as a synonym of type is deprecated; in a future version of numpy, it will be understood as (type, (1,)) / '(1,)type'.\n",
      "  np_resource = np.dtype([(\"resource\", np.ubyte, 1)])\n",
      "/home/bithika/local/anaconda3/envs/tf_gpu/lib/python3.7/site-packages/tensorboard/compat/tensorflow_stub/dtypes.py:541: FutureWarning: Passing (type, 1) or '1type' as a synonym of type is deprecated; in a future version of numpy, it will be understood as (type, (1,)) / '(1,)type'.\n",
      "  _np_qint8 = np.dtype([(\"qint8\", np.int8, 1)])\n",
      "/home/bithika/local/anaconda3/envs/tf_gpu/lib/python3.7/site-packages/tensorboard/compat/tensorflow_stub/dtypes.py:542: FutureWarning: Passing (type, 1) or '1type' as a synonym of type is deprecated; in a future version of numpy, it will be understood as (type, (1,)) / '(1,)type'.\n",
      "  _np_quint8 = np.dtype([(\"quint8\", np.uint8, 1)])\n",
      "/home/bithika/local/anaconda3/envs/tf_gpu/lib/python3.7/site-packages/tensorboard/compat/tensorflow_stub/dtypes.py:543: FutureWarning: Passing (type, 1) or '1type' as a synonym of type is deprecated; in a future version of numpy, it will be understood as (type, (1,)) / '(1,)type'.\n",
      "  _np_qint16 = np.dtype([(\"qint16\", np.int16, 1)])\n",
      "/home/bithika/local/anaconda3/envs/tf_gpu/lib/python3.7/site-packages/tensorboard/compat/tensorflow_stub/dtypes.py:544: FutureWarning: Passing (type, 1) or '1type' as a synonym of type is deprecated; in a future version of numpy, it will be understood as (type, (1,)) / '(1,)type'.\n",
      "  _np_quint16 = np.dtype([(\"quint16\", np.uint16, 1)])\n",
      "/home/bithika/local/anaconda3/envs/tf_gpu/lib/python3.7/site-packages/tensorboard/compat/tensorflow_stub/dtypes.py:545: FutureWarning: Passing (type, 1) or '1type' as a synonym of type is deprecated; in a future version of numpy, it will be understood as (type, (1,)) / '(1,)type'.\n",
      "  _np_qint32 = np.dtype([(\"qint32\", np.int32, 1)])\n",
      "/home/bithika/local/anaconda3/envs/tf_gpu/lib/python3.7/site-packages/tensorboard/compat/tensorflow_stub/dtypes.py:550: FutureWarning: Passing (type, 1) or '1type' as a synonym of type is deprecated; in a future version of numpy, it will be understood as (type, (1,)) / '(1,)type'.\n",
      "  np_resource = np.dtype([(\"resource\", np.ubyte, 1)])\n"
     ]
    }
   ],
   "source": [
    "import numpy as np # linear algebra\n",
    "import pandas as pd # dataprocessing\n",
    "# import libraries\n",
    "import zipfile # read ZIP file\n",
    "import os # miscellaneous operating system interfaces\n",
    "import json \n",
    "import shutil\n",
    "\n",
    "from keras.preprocessing.image import ImageDataGenerator\n",
    "\n",
    "# look at the data files\n",
    "from subprocess import check_output\n",
    "\n",
    "from glob import glob \n",
    "\n",
    "\n",
    "# import necessary packages\n",
    "from imutils import paths #A series of convenience functions to \n",
    "# make basic image processing functions such as translation, \n",
    "# rotation, resizing, skeletonization, displaying Matplotlib \n",
    "# images, sorting contours, detecting edges, and much more easier\n",
    "# with OpenCV and both Python 2.7 and Python 3.\n",
    "import random # to generate psuedo random numbers\n",
    "import os # operating systems interfaces \n",
    "import shutil # copy/remove on files and collection of files \n",
    "# (high-level file and directory handling)\n",
    "import PIL\n",
    "\n",
    "import matplotlib.pyplot as pyplot\n",
    "from keras.preprocessing.image import load_img, img_to_array\n",
    "\n",
    "# import function to split arrays into random train and test subsets \n",
    "from sklearn.model_selection import train_test_split\n",
    "\n",
    "from keras.applications.resnet50 import ResNet50\n",
    "\n",
    "\n",
    "from keras.models import Sequential\n",
    "\n",
    "from keras.layers import Dense, Dropout, Flatten, BatchNormalization, Activation\n",
    "from keras.layers import Conv2D, MaxPool2D\n",
    "\n",
    "from keras.callbacks import EarlyStopping, ReduceLROnPlateau\n",
    "\n",
    "%reload_ext autoreload\n",
    "%autoreload 2\n",
    "%matplotlib inline\n",
    "\n",
    "# Set path that you will use in this notebook \n",
    "root_dir = \"/home/bithika/\"\n",
    "\n",
    "# notebook project directories\n",
    "base_dir = root_dir + 'ml/Kaggle/pcam/'\n",
    "!mkdir -p \"{base_dir}\""
   ]
  },
  {
   "cell_type": "code",
   "execution_count": 2,
   "metadata": {
    "ExecuteTime": {
     "end_time": "2019-10-21T04:00:34.756400Z",
     "start_time": "2019-10-21T04:00:34.721672Z"
    }
   },
   "outputs": [],
   "source": [
    "(HEIGHT, WIDTH) = (224,224)# rescale images (higher performance; crop images)\n",
    "(DEF_HEIGHT, DEF_WIDTH) = (96,96) # used for test data\n",
    "# crop height and width = (def_height,def_width)\n",
    "BATCH_SIZE = 32 \n",
    "\n",
    "DROPOUT_RATE = 0.5"
   ]
  },
  {
   "cell_type": "code",
   "execution_count": 3,
   "metadata": {
    "ExecuteTime": {
     "end_time": "2019-10-21T01:45:15.305188Z",
     "start_time": "2019-10-21T01:45:15.283991Z"
    }
   },
   "outputs": [],
   "source": [
    "# set the random seed\n",
    "np.random.seed(2)"
   ]
  },
  {
   "cell_type": "code",
   "execution_count": 4,
   "metadata": {
    "ExecuteTime": {
     "end_time": "2019-10-21T01:45:16.602671Z",
     "start_time": "2019-10-21T01:45:16.564105Z"
    }
   },
   "outputs": [
    {
     "data": {
      "text/plain": [
       "'2.2.4'"
      ]
     },
     "execution_count": 4,
     "metadata": {},
     "output_type": "execute_result"
    }
   ],
   "source": [
    "import keras\n",
    "keras.__version__"
   ]
  },
  {
   "cell_type": "markdown",
   "metadata": {
    "ExecuteTime": {
     "end_time": "2019-09-16T14:51:32.960807Z",
     "start_time": "2019-09-16T14:51:32.958612Z"
    },
    "heading_collapsed": true
   },
   "source": [
    "### Load data - old method"
   ]
  },
  {
   "cell_type": "code",
   "execution_count": null,
   "metadata": {
    "ExecuteTime": {
     "end_time": "2019-10-04T18:58:34.593571Z",
     "start_time": "2019-10-04T18:58:34.510831Z"
    },
    "hidden": true
   },
   "outputs": [],
   "source": [
    "# look at the data files\n",
    "from subprocess import check_output\n",
    "print(check_output([\"ls\", \"/home/bithika/Dropbox/DL/Cancer_detection\"]).decode(\"utf8\"))"
   ]
  },
  {
   "cell_type": "code",
   "execution_count": null,
   "metadata": {
    "ExecuteTime": {
     "end_time": "2019-09-20T17:22:49.830849Z",
     "start_time": "2019-09-20T17:22:49.825869Z"
    },
    "hidden": true
   },
   "outputs": [],
   "source": [
    "# designate directory \n",
    "home_dir = \"/home/bithika/Dropbox/DL/Cancer_detection/\"\n",
    "dataset = \"histopathologic-cancer-detection\""
   ]
  },
  {
   "cell_type": "code",
   "execution_count": null,
   "metadata": {
    "ExecuteTime": {
     "end_time": "2019-09-20T17:23:01.200058Z",
     "start_time": "2019-09-20T17:23:01.185700Z"
    },
    "hidden": true
   },
   "outputs": [],
   "source": [
    "#unzip all the files \n",
    "zip_f = zipfile.ZipFile(home_dir+dataset+\".zip\")"
   ]
  },
  {
   "cell_type": "code",
   "execution_count": null,
   "metadata": {
    "ExecuteTime": {
     "end_time": "2019-09-20T17:24:08.826109Z",
     "start_time": "2019-09-20T17:24:08.816138Z"
    },
    "hidden": true
   },
   "outputs": [],
   "source": [
    "# this function allows you to extract source files into the \n",
    "# destination dictionary \n",
    "def unzip(source_filename, dest_dir):\n",
    "    \"\"\"Unzip\n",
    "    \n",
    "    Arguments: \n",
    "    source_filename -- full path of the source file to be unzipped\n",
    "    dest_dir --  destination path where extracted file is saved\n",
    "    \n",
    "    \"\"\"\n",
    "    with zipfile.ZipFile(source_filename) as zf:\n",
    "        zf.extractall(dest_dir)"
   ]
  },
  {
   "cell_type": "code",
   "execution_count": null,
   "metadata": {
    "ExecuteTime": {
     "end_time": "2019-09-20T17:24:13.011458Z",
     "start_time": "2019-09-20T17:24:13.007033Z"
    },
    "hidden": true
   },
   "outputs": [],
   "source": [
    "# Create target Directory if don't exist\n",
    "dirName = \"/home/bithika/Documents/DL/histopathologic-cancer-detection\"\n",
    "if not os.path.exists(dirName):\n",
    "    os.mkdir(dirName)\n",
    "    print(\"Directory \" , dirName ,  \" Created \")\n",
    "else:    \n",
    "    print(\"Directory \" , dirName ,  \" already exists\")"
   ]
  },
  {
   "cell_type": "code",
   "execution_count": null,
   "metadata": {
    "ExecuteTime": {
     "end_time": "2019-09-16T14:12:17.613823Z",
     "start_time": "2019-09-16T14:11:52.431092Z"
    },
    "hidden": true
   },
   "outputs": [],
   "source": [
    "# unzip Datafiles downladed from Kaggle \n",
    "unzip(home_dir+Dataset+\".zip\",dirName)"
   ]
  },
  {
   "cell_type": "code",
   "execution_count": null,
   "metadata": {
    "ExecuteTime": {
     "end_time": "2019-09-16T14:49:21.280131Z",
     "start_time": "2019-09-16T14:49:04.488422Z"
    },
    "hidden": true
   },
   "outputs": [],
   "source": [
    "# list all the files with complete path in \"dirName\"\n",
    "for dirname, _, filenames in os.walk(dirName):\n",
    "    for filename in filenames:\n",
    "        print(os.path.join(dirname, filename))"
   ]
  },
  {
   "cell_type": "code",
   "execution_count": null,
   "metadata": {
    "ExecuteTime": {
     "end_time": "2019-09-16T14:35:26.275162Z",
     "start_time": "2019-09-16T14:34:10.848438Z"
    },
    "hidden": true
   },
   "outputs": [],
   "source": [
    "unzip(\"/home/bithika/Documents/DL/histopathologic-cancer-detection/train.zip\",dirName)"
   ]
  },
  {
   "cell_type": "code",
   "execution_count": null,
   "metadata": {
    "ExecuteTime": {
     "end_time": "2019-09-16T14:35:44.478562Z",
     "start_time": "2019-09-16T14:35:26.276929Z"
    },
    "hidden": true
   },
   "outputs": [],
   "source": [
    "unzip(\"/home/bithika/Documents/DL/histopathologic-cancer-detection/test.zip\",dirName)"
   ]
  },
  {
   "cell_type": "code",
   "execution_count": null,
   "metadata": {
    "ExecuteTime": {
     "end_time": "2019-09-16T14:48:38.758542Z",
     "start_time": "2019-09-16T14:48:38.083288Z"
    },
    "hidden": true,
    "scrolled": true
   },
   "outputs": [],
   "source": [
    "# DO NOT run this command as this exceeds the I/O data rate\n",
    "# to avoid crashing the notebook server will stop it \n",
    "# list all the files with complete path in \"dirName\"\n",
    "for dirname, _, filenames in os.walk(dirName):\n",
    "    for filename in filenames:\n",
    "        print(os.path.join(dirname, filename))"
   ]
  },
  {
   "cell_type": "markdown",
   "metadata": {
    "hidden": true
   },
   "source": [
    "https://stackoverflow.com/questions/6996603/delete-a-file-or-folder"
   ]
  },
  {
   "cell_type": "code",
   "execution_count": null,
   "metadata": {
    "ExecuteTime": {
     "end_time": "2019-09-21T12:31:09.442237Z",
     "start_time": "2019-09-21T12:31:05.257653Z"
    },
    "hidden": true
   },
   "outputs": [],
   "source": [
    "# delete \"histopathologic-cancer-detection\" directory and all \n",
    "# its contents\n",
    "import sys\n",
    "import shutil\n",
    "\n",
    "dirName = \"/home/bithika/Documents/DL/histopathologic-cancer-detection\"\n",
    "if os.path.exists(dirName):\n",
    "    shutil.rmtree(dirName)\n",
    "    print(\"Directory \" , dirName ,  \" deleted \")\n",
    "else:    \n",
    "    print(\"Directory \" , dirName ,  \" deletion failed\")"
   ]
  },
  {
   "cell_type": "code",
   "execution_count": null,
   "metadata": {
    "ExecuteTime": {
     "end_time": "2019-09-21T12:31:39.821346Z",
     "start_time": "2019-09-21T12:31:39.797264Z"
    },
    "hidden": true
   },
   "outputs": [],
   "source": [
    "# check if the directory has ben deleted\n",
    "# no output means folder is empty\n",
    "dirDelName = \"/home/bithika/Documents/DL/\"\n",
    "from subprocess import check_output\n",
    "print(check_output([\"ls\", dirDelName]).decode(\"utf8\"))"
   ]
  },
  {
   "cell_type": "markdown",
   "metadata": {
    "heading_collapsed": true
   },
   "source": [
    "### Using Kaggle API and SDK to download dataset \n",
    "\n",
    "The data we are using lives on Kaggle. We use Kaggle's API <sup>[1](#APIlaunch)</sup> for downloading datasets and later for submitting to competetions [2](#beta)</sup>. To used Kaggle API we need to first sign up for a Kaggle account at  https://www.kaggle.com/.  Once logged into Kaggle, navigate to \"My Account\" in the top right option of the menu bar. Then scroll down to where you can see \"Create New API Token\". This will download a JSON file to your computer with your username and token string. Copy these to ~/.kaggle/kaggle.json token file.\n",
    "\n",
    "For your security, ensure that other users of your computer do not have read access to your credentials. On Unix-based systems you can do this with the following command:<br /> \n",
    "chmod 600 ~/.kaggle/kaggle.json\n",
    "\n",
    "<a name=\"APIlaunch\">1</a>: Kaggle API was launched in 2017.\n",
    "<br /> \n",
    "<a name=\"beta\">2</a>: Kaggle API is a Beta release.\n",
    "\n",
    "\n",
    "PreReq:  Python 3"
   ]
  },
  {
   "cell_type": "code",
   "execution_count": null,
   "metadata": {
    "ExecuteTime": {
     "end_time": "2019-09-21T18:23:15.799522Z",
     "start_time": "2019-09-21T18:23:14.511361Z"
    },
    "hidden": true
   },
   "outputs": [],
   "source": [
    "# First we make sure that we have Kaggle sdk installed\n",
    "# We assume that kaggle.json file is stored in at ~/.kaggle/kaggle.json\n",
    "!pip install kaggle"
   ]
  },
  {
   "cell_type": "code",
   "execution_count": null,
   "metadata": {
    "ExecuteTime": {
     "end_time": "2019-09-23T19:12:50.757101Z",
     "start_time": "2019-09-23T19:12:50.211506Z"
    },
    "hidden": true
   },
   "outputs": [],
   "source": [
    "# Kaggle API version \n",
    "!kaggle --version"
   ]
  },
  {
   "cell_type": "markdown",
   "metadata": {
    "hidden": true
   },
   "source": [
    "**Kaggle API: Download Competition Data**"
   ]
  },
  {
   "cell_type": "code",
   "execution_count": null,
   "metadata": {
    "ExecuteTime": {
     "end_time": "2019-09-21T18:37:08.165622Z",
     "start_time": "2019-09-21T18:37:06.647859Z"
    },
    "hidden": true,
    "scrolled": true
   },
   "outputs": [],
   "source": [
    "# Can list available Kaggle \n",
    "!kaggle datasets list"
   ]
  },
  {
   "cell_type": "code",
   "execution_count": null,
   "metadata": {
    "ExecuteTime": {
     "end_time": "2019-09-23T20:05:53.588297Z",
     "start_time": "2019-09-23T19:26:28.831008Z"
    },
    "hidden": true
   },
   "outputs": [],
   "source": [
    "!kaggle competitions download -c histopathologic-cancer-detection -p \"{base_dir}\" "
   ]
  },
  {
   "cell_type": "code",
   "execution_count": null,
   "metadata": {
    "ExecuteTime": {
     "end_time": "2019-09-24T06:35:36.002305Z",
     "start_time": "2019-09-24T06:35:35.960740Z"
    },
    "hidden": true
   },
   "outputs": [],
   "source": [
    "# this function allows you to extract source files into the \n",
    "# destination dictionary \n",
    "def unzip(source_filename, dest_dir):\n",
    "    \"\"\"Unzip\n",
    "    \n",
    "    Arguments: \n",
    "    source_filename -- full path of the source file to be unzipped\n",
    "    dest_dir --  destination path where extracted file is saved\n",
    "    \n",
    "    \"\"\"\n",
    "    with zipfile.ZipFile(source_filename) as zf:\n",
    "        zf.extractall(dest_dir)"
   ]
  },
  {
   "cell_type": "code",
   "execution_count": null,
   "metadata": {
    "ExecuteTime": {
     "end_time": "2019-09-24T17:54:12.054638Z",
     "start_time": "2019-09-24T17:53:42.631591Z"
    },
    "hidden": true
   },
   "outputs": [],
   "source": [
    "#unzip data files\n",
    "unzip('/home/bithika/ml/pcam/histopathologic-cancer-detection.zip',base_dir)"
   ]
  },
  {
   "cell_type": "code",
   "execution_count": null,
   "metadata": {
    "ExecuteTime": {
     "end_time": "2019-09-24T17:56:38.302171Z",
     "start_time": "2019-09-24T17:56:38.238030Z"
    },
    "hidden": true
   },
   "outputs": [],
   "source": [
    "# list files in base directory\n",
    "from subprocess import check_output\n",
    "print(check_output([\"ls\", base_dir]).decode(\"utf8\"))"
   ]
  },
  {
   "cell_type": "code",
   "execution_count": null,
   "metadata": {
    "ExecuteTime": {
     "end_time": "2019-10-04T20:21:18.203312Z",
     "start_time": "2019-10-04T20:20:15.845561Z"
    },
    "hidden": true
   },
   "outputs": [],
   "source": [
    "# unzip training files\n",
    "!mkdir -p \"{base_dir}train/\"\n",
    "dest_dir_name = os.path.join(base_dir , 'train/') #concatenate path and filename\n",
    "print(base_dir+'train.zip') # included to print dataset\n",
    "train_zip = zipfile.ZipFile(base_dir+'train.zip','r')# read train.zip\n",
    "train_zip.extractall(dest_dir_name)\n",
    "train_zip.close()\n"
   ]
  },
  {
   "cell_type": "code",
   "execution_count": null,
   "metadata": {
    "ExecuteTime": {
     "end_time": "2019-10-04T20:26:06.316085Z",
     "start_time": "2019-10-04T20:26:06.267355Z"
    },
    "hidden": true
   },
   "outputs": [],
   "source": [
    "# remove train.zip\n",
    "os.remove(base_dir+'train.zip')\n",
    "print(check_output([\"ls\", base_dir]).decode(\"utf8\"))"
   ]
  },
  {
   "cell_type": "code",
   "execution_count": null,
   "metadata": {
    "ExecuteTime": {
     "end_time": "2019-10-04T20:28:33.834388Z",
     "start_time": "2019-10-04T20:28:33.792627Z"
    },
    "hidden": true
   },
   "outputs": [],
   "source": [
    "# move train into VALTRAIN/oldtrain folder\n",
    "dest_dir_name = os.path.join(base_dir , 'VALTRAIN/oldtrain')\n",
    "source_dir_name = os.path.join(base_dir,'train')\n",
    "shutil.move(source_dir_name,dest_dir_name)"
   ]
  },
  {
   "cell_type": "code",
   "execution_count": null,
   "metadata": {
    "ExecuteTime": {
     "end_time": "2019-09-24T18:47:13.731002Z",
     "start_time": "2019-09-24T18:46:57.955653Z"
    },
    "hidden": true
   },
   "outputs": [],
   "source": [
    "# unzip test files \n",
    "!mkdir -p \"{base_dir}test/\"\n",
    "dest_dir_name = os.path.join(base_dir,'test/')#concatenate path\n",
    "test_zip = zipfile.ZipFile(base_dir+'test.zip','r')#read test.zip\n",
    "test_zip.extractall(dest_dir_name)\n",
    "test_zip.close()"
   ]
  },
  {
   "cell_type": "code",
   "execution_count": null,
   "metadata": {
    "ExecuteTime": {
     "end_time": "2019-09-24T18:48:11.653042Z",
     "start_time": "2019-09-24T18:48:11.597596Z"
    },
    "hidden": true
   },
   "outputs": [],
   "source": [
    "print(check_output([\"ls\", base_dir]).decode(\"utf8\"))"
   ]
  },
  {
   "cell_type": "code",
   "execution_count": null,
   "metadata": {
    "ExecuteTime": {
     "end_time": "2019-09-24T18:48:21.050035Z",
     "start_time": "2019-09-24T18:48:20.945945Z"
    },
    "hidden": true
   },
   "outputs": [],
   "source": [
    "# remove test.zip\n",
    "os.remove(base_dir+'test.zip')\n",
    "print(check_output([\"ls\", base_dir]).decode(\"utf8\"))"
   ]
  },
  {
   "cell_type": "code",
   "execution_count": null,
   "metadata": {
    "hidden": true
   },
   "outputs": [],
   "source": [
    "# Data preparation\n",
    "# Data loading \n",
    "\n",
    "2.2 Check for null and missing values\n",
    "2.3 Normalization\n",
    "2.4 Reshape\n",
    "2.5 Label encoding\n",
    "2.6 Split training and valdiation set  - all done on 9th Oct"
   ]
  },
  {
   "attachments": {
    "image.png": {
     "image/png": "[encoded data removed]"
    }
   },
   "cell_type": "markdown",
   "metadata": {
    "hidden": true
   },
   "source": [
    "**Input data format**\n",
    "The most common inpute parameters are:\n",
    "1. Number of images\n",
    "2. Image height\n",
    "3. Image width\n",
    "4. number of channels(usually 2 channels corresponding to RGB Pizel levels (0-255))\n",
    "\n",
    "Preprocessing steps:\n",
    "1. Uniform aspect ratio - Images have same size and aspect ratio (most NNs assume square input shape)\n",
    "**Method**:Cropping - focus on center part of image\n",
    "![image.png](attachment:image.png)\n",
    "\n",
    "2. Image Scaling: upscaling and down scaling \n"
   ]
  },
  {
   "cell_type": "code",
   "execution_count": null,
   "metadata": {
    "hidden": true
   },
   "outputs": [],
   "source": []
  },
  {
   "cell_type": "code",
   "execution_count": null,
   "metadata": {
    "hidden": true
   },
   "outputs": [],
   "source": []
  },
  {
   "cell_type": "code",
   "execution_count": null,
   "metadata": {
    "hidden": true
   },
   "outputs": [],
   "source": []
  },
  {
   "cell_type": "code",
   "execution_count": null,
   "metadata": {
    "hidden": true
   },
   "outputs": [],
   "source": []
  },
  {
   "cell_type": "code",
   "execution_count": null,
   "metadata": {
    "hidden": true
   },
   "outputs": [],
   "source": []
  },
  {
   "cell_type": "code",
   "execution_count": null,
   "metadata": {
    "hidden": true
   },
   "outputs": [],
   "source": []
  },
  {
   "cell_type": "markdown",
   "metadata": {},
   "source": [
    "### How to Progressively Load Images\n",
    "It is possible to write code to manually load image data and return data ready for modeling.\n",
    "\n",
    "This would include walking the directory structure for a dataset, loading image data, and returning the input (pixel arrays) and output (class integer).\n",
    "\n",
    "Thankfully, we don’t need to write this code. Instead, we can use the ImageDataGenerator class provided by Keras.\n",
    "\n",
    "The main benefit of using this class to load the data is that images are loaded for a single dataset in batches, meaning that it can be used for loading both small datasets as well as very large image datasets with thousands or millions of images.\n",
    "\n",
    "Instead of loading all images into memory, it will load just enough images into memory for the current and perhaps the next few mini-batches when training and evaluating a deep learning model. I refer to this as progressive loading, as the dataset is progressively loaded from file, retrieving just enough data for what is needed immediately.\n",
    "\n",
    "Two additional benefits of the using the [ImageDataGenerator class](https://keras.io/preprocessing/image/) is that it can also automatically scale pixel values of images and it can automatically generate augmented versions of images. We will leave these topics for discussion in another tutorial and instead focus on how to use the ImageDataGenerator class to load image data from file.\n",
    "\n",
    "The pattern for using the Image processing is used as follows:\n",
    "\n",
    "1. Construct and configure an instance of the ImageDataGenerator class.\n",
    "2. Retrieve an iterator by calling the flow_from_directory() function.\n",
    "3. Use the iterator in the training or evaluation of a model.\n",
    "\n",
    "Let’s take a closer look at each step\n",
    "\n",
    "The constructor for the ImageDataGenerator contains many arguments to specify how to manipulate the image data after it is loaded, including pixel scaling and data augmentation. We do not need any of these features at this stage, so configuring the ImageDataGenerator is easy."
   ]
  },
  {
   "cell_type": "markdown",
   "metadata": {},
   "source": [
    "Next, an iterator is required to progressively load images for a single dataset.\n",
    "\n",
    "This requires calling the flow_from_directory() function and specifying the dataset directory, such as the train, test, or validation directory.\n",
    "\n",
    "The function also allows you to configure more details related to the loading of images. Of note is the ‘target_size‘ argument that allows you to load all images to a specific size, which is often required when modeling. The function defaults to square images with the size (256, 256).\n",
    "\n",
    "The function also allows you to specify the type of classification task via the ‘class_mode‘ argument, specifically whether it is ‘binary‘ or a multi-class classification ‘categorical‘.\n",
    "\n",
    "The default ‘batch_size‘ is 32, which means that 32 randomly selected images from across the classes in the dataset will be returned in each batch when training. Larger or smaller batches may be desired. You may also want to return batches in a deterministic order when evaluating a model, which you can do by setting ‘shuffle‘ to ‘False.’\n",
    "\n",
    "There are many other options, and I encourage you to review the [API documentation.](https://keras.io/preprocessing/image/)\n",
    "\n",
    "We can use the same ImageDataGenerator to prepare separate iterators for separate dataset directories. This is useful if we would like the same pixel scaling applied to multiple datasets (e.g. trian, test, etc.)."
   ]
  },
  {
   "cell_type": "code",
   "execution_count": 3,
   "metadata": {
    "ExecuteTime": {
     "end_time": "2019-10-21T03:52:49.523088Z",
     "start_time": "2019-10-21T03:52:49.495000Z"
    }
   },
   "outputs": [],
   "source": [
    "# initialize the path to the base path with contains train and test directorry\n",
    "ORIG_INPUT_DATASET = \"/home/bithika/ml/Kaggle/pcam\"\n",
    "\n",
    "# derive the training, validation, and testing directories\n",
    "TRAIN_PATH = os.path.sep.join([ORIG_INPUT_DATASET, \"training\"])\n",
    "VAL_PATH = os.path.sep.join([ORIG_INPUT_DATASET, \"validation\"])\n",
    "VALTRAIN_PATH = os.path.sep.join([ORIG_INPUT_DATASET, \"VALTRAIN\"])\n",
    "TEST_PATH = os.path.sep.join([ORIG_INPUT_DATASET, \"TEST\"])"
   ]
  },
  {
   "cell_type": "code",
   "execution_count": 4,
   "metadata": {
    "ExecuteTime": {
     "end_time": "2019-10-21T03:52:50.905368Z",
     "start_time": "2019-10-21T03:52:50.866702Z"
    }
   },
   "outputs": [
    {
     "name": "stdout",
     "output_type": "stream",
     "text": [
      "docs\n",
      "notebooks\n",
      "pseudocode.txt\n",
      "sample_submission.csv\n",
      "TEST\n",
      "training\n",
      "train_labels.csv\n",
      "tree_after_data_split.png\n",
      "validation\n",
      "VALTRAIN\n",
      "\n"
     ]
    }
   ],
   "source": [
    "print(check_output([\"ls\", base_dir]).decode(\"utf8\"))"
   ]
  },
  {
   "cell_type": "markdown",
   "metadata": {},
   "source": [
    " we need to make a dataframe contanint the every training and validation example image's path, id and labels\n"
   ]
  },
  {
   "cell_type": "code",
   "execution_count": 11,
   "metadata": {
    "ExecuteTime": {
     "end_time": "2019-10-21T03:54:26.264366Z",
     "start_time": "2019-10-21T03:54:26.089972Z"
    }
   },
   "outputs": [],
   "source": [
    "# SAVE train_labels.csv as a dataframe\n",
    "labels = pd.read_csv(os.path.join(ORIG_INPUT_DATASET,'train_labels.csv'))"
   ]
  },
  {
   "cell_type": "code",
   "execution_count": 12,
   "metadata": {
    "ExecuteTime": {
     "end_time": "2019-10-21T03:54:27.714414Z",
     "start_time": "2019-10-21T03:54:27.680054Z"
    }
   },
   "outputs": [
    {
     "data": {
      "text/html": [
       "<div>\n",
       "<style scoped>\n",
       "    .dataframe tbody tr th:only-of-type {\n",
       "        vertical-align: middle;\n",
       "    }\n",
       "\n",
       "    .dataframe tbody tr th {\n",
       "        vertical-align: top;\n",
       "    }\n",
       "\n",
       "    .dataframe thead th {\n",
       "        text-align: right;\n",
       "    }\n",
       "</style>\n",
       "<table border=\"1\" class=\"dataframe\">\n",
       "  <thead>\n",
       "    <tr style=\"text-align: right;\">\n",
       "      <th></th>\n",
       "      <th>id</th>\n",
       "      <th>label</th>\n",
       "    </tr>\n",
       "  </thead>\n",
       "  <tbody>\n",
       "    <tr>\n",
       "      <td>0</td>\n",
       "      <td>f38a6374c348f90b587e046aac6079959adf3835</td>\n",
       "      <td>0</td>\n",
       "    </tr>\n",
       "    <tr>\n",
       "      <td>1</td>\n",
       "      <td>c18f2d887b7ae4f6742ee445113fa1aef383ed77</td>\n",
       "      <td>1</td>\n",
       "    </tr>\n",
       "    <tr>\n",
       "      <td>2</td>\n",
       "      <td>755db6279dae599ebb4d39a9123cce439965282d</td>\n",
       "      <td>0</td>\n",
       "    </tr>\n",
       "    <tr>\n",
       "      <td>3</td>\n",
       "      <td>bc3f0c64fb968ff4a8bd33af6971ecae77c75e08</td>\n",
       "      <td>0</td>\n",
       "    </tr>\n",
       "    <tr>\n",
       "      <td>4</td>\n",
       "      <td>068aba587a4950175d04c680d38943fd488d6a9d</td>\n",
       "      <td>0</td>\n",
       "    </tr>\n",
       "    <tr>\n",
       "      <td>5</td>\n",
       "      <td>acfe80838488fae3c89bd21ade75be5c34e66be7</td>\n",
       "      <td>0</td>\n",
       "    </tr>\n",
       "    <tr>\n",
       "      <td>6</td>\n",
       "      <td>a24ce148f6ffa7ef8eefb4efb12ebffe8dd700da</td>\n",
       "      <td>1</td>\n",
       "    </tr>\n",
       "    <tr>\n",
       "      <td>7</td>\n",
       "      <td>7f6ccae485af121e0b6ee733022e226ee6b0c65f</td>\n",
       "      <td>1</td>\n",
       "    </tr>\n",
       "    <tr>\n",
       "      <td>8</td>\n",
       "      <td>559e55a64c9ba828f700e948f6886f4cea919261</td>\n",
       "      <td>0</td>\n",
       "    </tr>\n",
       "    <tr>\n",
       "      <td>9</td>\n",
       "      <td>8eaaa7a400aa79d36c2440a4aa101cc14256cda4</td>\n",
       "      <td>0</td>\n",
       "    </tr>\n",
       "  </tbody>\n",
       "</table>\n",
       "</div>"
      ],
      "text/plain": [
       "                                         id  label\n",
       "0  f38a6374c348f90b587e046aac6079959adf3835      0\n",
       "1  c18f2d887b7ae4f6742ee445113fa1aef383ed77      1\n",
       "2  755db6279dae599ebb4d39a9123cce439965282d      0\n",
       "3  bc3f0c64fb968ff4a8bd33af6971ecae77c75e08      0\n",
       "4  068aba587a4950175d04c680d38943fd488d6a9d      0\n",
       "5  acfe80838488fae3c89bd21ade75be5c34e66be7      0\n",
       "6  a24ce148f6ffa7ef8eefb4efb12ebffe8dd700da      1\n",
       "7  7f6ccae485af121e0b6ee733022e226ee6b0c65f      1\n",
       "8  559e55a64c9ba828f700e948f6886f4cea919261      0\n",
       "9  8eaaa7a400aa79d36c2440a4aa101cc14256cda4      0"
      ]
     },
     "execution_count": 12,
     "metadata": {},
     "output_type": "execute_result"
    }
   ],
   "source": [
    "# displaying only frist 10 entries in the labels dataframe\n",
    "labels[:10] "
   ]
  },
  {
   "cell_type": "code",
   "execution_count": 13,
   "metadata": {
    "ExecuteTime": {
     "end_time": "2019-10-21T03:54:31.904484Z",
     "start_time": "2019-10-21T03:54:31.876671Z"
    }
   },
   "outputs": [],
   "source": [
    "# now we want to add filepath's to a dataframe which also contains id and label\n",
    "# we use glob. Globbing is a technical term for matching files by name or type of file. \n",
    "# here we use it to match by file type. \n",
    "\n",
    "# we need to go into subfolders \"oldtrain\" inside the VAL_TRAIN_PATH - this should be created before we split data\n"
   ]
  },
  {
   "cell_type": "code",
   "execution_count": 14,
   "metadata": {
    "ExecuteTime": {
     "end_time": "2019-10-21T03:54:33.366507Z",
     "start_time": "2019-10-21T03:54:33.344894Z"
    }
   },
   "outputs": [
    {
     "data": {
      "text/plain": [
       "'/home/bithika/ml/Kaggle/pcam/VALTRAIN/oldtrain'"
      ]
     },
     "execution_count": 14,
     "metadata": {},
     "output_type": "execute_result"
    }
   ],
   "source": [
    "# join the folder \n",
    "val_train_tif = os.path.join(VALTRAIN_PATH,\"oldtrain\")\n",
    "val_train_tif"
   ]
  },
  {
   "cell_type": "code",
   "execution_count": 7,
   "metadata": {
    "ExecuteTime": {
     "end_time": "2019-10-21T03:52:59.421803Z",
     "start_time": "2019-10-21T03:52:58.904646Z"
    }
   },
   "outputs": [],
   "source": [
    "# using globbing to match all files with .tif file type and save in a dataframe\n",
    "path_labels = pd.DataFrame({'path':glob(os.path.join(val_train_tif,'*.tif'))})"
   ]
  },
  {
   "cell_type": "code",
   "execution_count": 15,
   "metadata": {
    "ExecuteTime": {
     "end_time": "2019-10-21T03:54:35.872768Z",
     "start_time": "2019-10-21T03:54:35.405195Z"
    }
   },
   "outputs": [],
   "source": [
    "path_labels.head() # glance at the data# using globbing to match all files with .tif file type and save in a dataframe\n",
    "path_labels = pd.DataFrame({'path':glob(os.path.join(val_train_tif,'*.tif'))})"
   ]
  },
  {
   "cell_type": "code",
   "execution_count": 16,
   "metadata": {
    "ExecuteTime": {
     "end_time": "2019-10-21T03:54:37.766991Z",
     "start_time": "2019-10-21T03:54:37.636830Z"
    }
   },
   "outputs": [],
   "source": [
    "# lambda function is a small anonymous function, which can take anny number of arguments but can have only one expredtssion\n",
    "# lambda function can be used when we need to perform transformation or operation on\n",
    "# pandas seriesor dataframe (it can also be used on lists in python )\n",
    "# with a combination of map() method when applied to a series takes each element in the series and \n",
    "# applies a function to it and returns the transformed series\n",
    "\n",
    "# we add another column labeled 'id'  to the path_labels dataframe\n",
    "# it's value is just the file name of the tif file saved in a specific filepath \n",
    "path_labels['id'] = path_labels.path.map(lambda x : ((x.split('n/')[1].split('.')[0])))\n"
   ]
  },
  {
   "cell_type": "code",
   "execution_count": 17,
   "metadata": {
    "ExecuteTime": {
     "end_time": "2019-10-21T03:54:40.300416Z",
     "start_time": "2019-10-21T03:54:40.096521Z"
    }
   },
   "outputs": [],
   "source": [
    "# merge dataframes on label = 'id'\n",
    "path_labels = path_labels.merge(labels, on='id')"
   ]
  },
  {
   "cell_type": "markdown",
   "metadata": {},
   "source": [
    "Choose 6 random positive and negative examples, find their respective path and then display them in subplot"
   ]
  },
  {
   "cell_type": "code",
   "execution_count": 18,
   "metadata": {
    "ExecuteTime": {
     "end_time": "2019-10-21T03:54:43.020234Z",
     "start_time": "2019-10-21T03:54:42.963162Z"
    }
   },
   "outputs": [],
   "source": [
    "positive_indices = list(np.where(path_labels[\"label\"] == True)[0])\n",
    "negative_indices = list(np.where(path_labels[\"label\"] == False)[0])\n",
    "\n",
    "# take 3 random positive indices and negative indices\n",
    "random_positive_indices = random.sample(positive_indices,3)\n",
    "random_negative_indices = random.sample(negative_indices,3)"
   ]
  },
  {
   "cell_type": "code",
   "execution_count": 19,
   "metadata": {
    "ExecuteTime": {
     "end_time": "2019-10-21T03:54:46.351193Z",
     "start_time": "2019-10-21T03:54:46.322170Z"
    }
   },
   "outputs": [],
   "source": [
    "def img_load_array(path):\n",
    "    \"\"\"\n",
    "    Convert loaded image to an numpy array\n",
    "    \n",
    "    Prereq: numpy, from keras_preprocessing.image import img_to_array, load_img\n",
    "    \n",
    "    Argument: path (dtype: string)\n",
    "    \n",
    "    Return:Image as an numpy array \n",
    "    \"\"\"\n",
    "    ## Read in the current image\n",
    "    image_keras = load_img(path)\n",
    "    # Convert image to numpy array\n",
    "    image_array = img_to_array(image_keras)\n",
    "    \n",
    "    return image_array\n",
    "    "
   ]
  },
  {
   "cell_type": "code",
   "execution_count": 20,
   "metadata": {
    "ExecuteTime": {
     "end_time": "2019-10-21T03:55:04.263492Z",
     "start_time": "2019-10-21T03:55:03.412026Z"
    }
   },
   "outputs": [
    {
     "data": {
      "image/png": "[encoded data removed]",
      "text/plain": [
       "<Figure size 1440x720 with 6 Axes>"
      ]
     },
     "metadata": {
      "needs_background": "light"
     },
     "output_type": "display_data"
    }
   ],
   "source": [
    "\n",
    "\n",
    "# instantiate 'Figure' class by 'fig'. Creates a '.Rectangle' instance representing a \n",
    "# figure patch \n",
    "# Add a subplot to with nrows = 2 and ncols = 3 and use figsize to make the figure bigger\n",
    "# 20  by 10 inches\n",
    "fig, ax = pyplot.subplots(2,3, figsize=(20,10)) # 2 rows and 3 columns\n",
    "\n",
    "# Add a centered title to the figure.\n",
    "fig.suptitle('Histopathologic scans of lymph node sections',fontsize=20, fontweight='bold')\n",
    "\n",
    "for i in range(0,3):\n",
    "    # Display image in first row and i'th column axes location - 1/255 ensures that RGB values are in range [0,1] for float values \n",
    "    ax[0,i].imshow(img_load_array(path_labels.iloc[random_positive_indices[i],0])/255)\n",
    "    # Set a  centered title for the image diplayed at axes defined above \n",
    "    ax[0,i].set_title(\"Positive example\", fontweight = 'bold')\n",
    "    \n",
    "    # Display image in first row and i'th column axes location - 1/255 ensures that RGB values are in range [0,1] for float values \n",
    "    ax[1,i].imshow(img_load_array(path_labels.iloc[random_negative_indices[i],0])/255)\n",
    "    # Set a  centered title for the image diplayed at axes defined above \n",
    "    ax[1,i].set_title(\"Negative example\", fontweight = 'bold')\n"
   ]
  },
  {
   "cell_type": "markdown",
   "metadata": {
    "ExecuteTime": {
     "end_time": "2019-10-04T15:31:48.724777Z",
     "start_time": "2019-10-04T15:31:48.667548Z"
    }
   },
   "source": [
    "### Data Split\n",
    "Making good choices in how you set up your training, development, and test sets can make a huge difference in helping you quickly find a good high performance neural network.\n",
    "We are given training (~80%) and test(~20%) data (following [Pareto's principle](https://en.wikipedia.org/wiki/Pareto_principle)). Its a good practice to carve off a portion of the training set to be the hold-out cross validation set and thi sis sometimes also called developtment test (dev set. Note that the test data is already given but all the data is coming from PCAM distribution only.  \n",
    "\n",
    "On the rule of thumb for the ratios of train,dev and test datas to be taken <sup> [2](#trainvsdevvstest)</sup>. If you have maybe 100 examples in total, maybe 1000 examples in total, maybe after 10,000 examples. Conventionally several years ago a good practice was to take all your data and split it according to maybe a 70/30% in terms of a people often talk about the 70/30 train test splits. If you don't have an explicit dev set or maybe a 60/20/20% split in terms of 60% train, 20% dev and 20% test. In modern era of big data, if you have a million examples, you might end up with 99.5% train and 0.25% dev, 0.25% test. Or maybe a 0.4% dev, 0.1% test.\n",
    "\n",
    "<a name=\"trainvsdevvstest\"> 2</a>: [Is there a rule-of-thumb for how to divide a dataset into training and validation sets?](https://stackoverflow.com/questions/13610074/is-there-a-rule-of-thumb-for-how-to-divide-a-dataset-into-training-and-validatio)"
   ]
  },
  {
   "cell_type": "markdown",
   "metadata": {},
   "source": [
    "config.py : A configuration file. I opted to use Python directly instead of YAML/JSON/XML/etc. This file is useful when working on larger deep learning projects. Here I store all my constant variable. (I have not made this file - to be included in future)"
   ]
  },
  {
   "cell_type": "markdown",
   "metadata": {
    "ExecuteTime": {
     "end_time": "2019-10-04T18:11:35.911555Z",
     "start_time": "2019-10-04T18:11:35.881600Z"
    }
   },
   "source": [
    "#### data shuffle"
   ]
  },
  {
   "cell_type": "code",
   "execution_count": 19,
   "metadata": {
    "ExecuteTime": {
     "end_time": "2019-10-21T01:45:52.387465Z",
     "start_time": "2019-10-21T01:45:51.777216Z"
    }
   },
   "outputs": [],
   "source": [
    "\n",
    "\n",
    "\n",
    "# grab the paths to all the input images in the TRAIN directory\n",
    "# and shuffle them \n",
    "valtrainPaths = list(paths.list_images(VALTRAIN_PATH))\n",
    "random.seed(42)\n",
    "random.shuffle(valtrainPaths)\n"
   ]
  },
  {
   "cell_type": "code",
   "execution_count": null,
   "metadata": {
    "ExecuteTime": {
     "end_time": "2019-10-17T22:37:07.452583Z",
     "start_time": "2019-10-17T22:37:07.350120Z"
    }
   },
   "outputs": [],
   "source": []
  },
  {
   "cell_type": "markdown",
   "metadata": {
    "ExecuteTime": {
     "end_time": "2019-10-04T18:29:11.987713Z",
     "start_time": "2019-10-04T18:29:11.952634Z"
    }
   },
   "source": [
    "#### data split"
   ]
  },
  {
   "cell_type": "markdown",
   "metadata": {
    "ExecuteTime": {
     "end_time": "2019-10-16T16:29:48.907591Z",
     "start_time": "2019-10-16T16:29:48.890634Z"
    }
   },
   "source": [
    "##### short method\n",
    "\n",
    "Classic way with ```train_test_split```"
   ]
  },
  {
   "cell_type": "code",
   "execution_count": null,
   "metadata": {
    "ExecuteTime": {
     "end_time": "2019-10-17T16:25:17.842701Z",
     "start_time": "2019-10-17T16:25:17.795730Z"
    }
   },
   "outputs": [],
   "source": []
  },
  {
   "cell_type": "code",
   "execution_count": 20,
   "metadata": {
    "ExecuteTime": {
     "end_time": "2019-10-21T01:45:58.533504Z",
     "start_time": "2019-10-21T01:45:58.504904Z"
    }
   },
   "outputs": [
    {
     "data": {
      "text/html": [
       "<div>\n",
       "<style scoped>\n",
       "    .dataframe tbody tr th:only-of-type {\n",
       "        vertical-align: middle;\n",
       "    }\n",
       "\n",
       "    .dataframe tbody tr th {\n",
       "        vertical-align: top;\n",
       "    }\n",
       "\n",
       "    .dataframe thead th {\n",
       "        text-align: right;\n",
       "    }\n",
       "</style>\n",
       "<table border=\"1\" class=\"dataframe\">\n",
       "  <thead>\n",
       "    <tr style=\"text-align: right;\">\n",
       "      <th></th>\n",
       "      <th>path</th>\n",
       "      <th>id</th>\n",
       "      <th>label</th>\n",
       "    </tr>\n",
       "  </thead>\n",
       "  <tbody>\n",
       "    <tr>\n",
       "      <td>0</td>\n",
       "      <td>/home/bithika/ml/Kaggle/pcam/VALTRAIN/oldtrain...</td>\n",
       "      <td>ed0be78e83ad27534917bffa41ec5cfbe0c9f536</td>\n",
       "      <td>0</td>\n",
       "    </tr>\n",
       "    <tr>\n",
       "      <td>1</td>\n",
       "      <td>/home/bithika/ml/Kaggle/pcam/VALTRAIN/oldtrain...</td>\n",
       "      <td>c0f6cadd16cad6c9e34b327a344ef38e198d858e</td>\n",
       "      <td>1</td>\n",
       "    </tr>\n",
       "    <tr>\n",
       "      <td>2</td>\n",
       "      <td>/home/bithika/ml/Kaggle/pcam/VALTRAIN/oldtrain...</td>\n",
       "      <td>bdae76041b6b2ab73aa204273a3bf429b55b5098</td>\n",
       "      <td>1</td>\n",
       "    </tr>\n",
       "    <tr>\n",
       "      <td>3</td>\n",
       "      <td>/home/bithika/ml/Kaggle/pcam/VALTRAIN/oldtrain...</td>\n",
       "      <td>ae9850e5e9fe2effa30db7b2f8bb608380170df5</td>\n",
       "      <td>0</td>\n",
       "    </tr>\n",
       "    <tr>\n",
       "      <td>4</td>\n",
       "      <td>/home/bithika/ml/Kaggle/pcam/VALTRAIN/oldtrain...</td>\n",
       "      <td>914f3ab2261c692ae2ae32cb05436f4ec737e6d3</td>\n",
       "      <td>0</td>\n",
       "    </tr>\n",
       "  </tbody>\n",
       "</table>\n",
       "</div>"
      ],
      "text/plain": [
       "                                                path  \\\n",
       "0  /home/bithika/ml/Kaggle/pcam/VALTRAIN/oldtrain...   \n",
       "1  /home/bithika/ml/Kaggle/pcam/VALTRAIN/oldtrain...   \n",
       "2  /home/bithika/ml/Kaggle/pcam/VALTRAIN/oldtrain...   \n",
       "3  /home/bithika/ml/Kaggle/pcam/VALTRAIN/oldtrain...   \n",
       "4  /home/bithika/ml/Kaggle/pcam/VALTRAIN/oldtrain...   \n",
       "\n",
       "                                         id  label  \n",
       "0  ed0be78e83ad27534917bffa41ec5cfbe0c9f536      0  \n",
       "1  c0f6cadd16cad6c9e34b327a344ef38e198d858e      1  \n",
       "2  bdae76041b6b2ab73aa204273a3bf429b55b5098      1  \n",
       "3  ae9850e5e9fe2effa30db7b2f8bb608380170df5      0  \n",
       "4  914f3ab2261c692ae2ae32cb05436f4ec737e6d3      0  "
      ]
     },
     "execution_count": 20,
     "metadata": {},
     "output_type": "execute_result"
    }
   ],
   "source": [
    "path_labels.head()"
   ]
  },
  {
   "cell_type": "code",
   "execution_count": 21,
   "metadata": {
    "ExecuteTime": {
     "end_time": "2019-10-21T03:55:14.810885Z",
     "start_time": "2019-10-21T03:55:14.197288Z"
    }
   },
   "outputs": [
    {
     "name": "stdout",
     "output_type": "stream",
     "text": [
      "There are 220025 training examples.\n",
      "There are 57458 test examples.\n"
     ]
    }
   ],
   "source": [
    "TestPaths = list(paths.list_images(TEST_PATH)) # list files inside \n",
    "ValTrainPaths = list(paths.list_images(VALTRAIN_PATH)) # list files inside \n",
    "print(\"There are \" + str(len(ValTrainPaths)) + \" training examples.\")\n",
    "print(\"There are \" + str(len(TestPaths)) + \" test examples.\")"
   ]
  },
  {
   "cell_type": "markdown",
   "metadata": {
    "ExecuteTime": {
     "end_time": "2019-10-16T16:44:45.434892Z",
     "start_time": "2019-10-16T16:44:45.390513Z"
    }
   },
   "source": [
    "Split 20% of training dataset into validation dataset\n"
   ]
  },
  {
   "cell_type": "code",
   "execution_count": 22,
   "metadata": {
    "ExecuteTime": {
     "end_time": "2019-10-21T03:55:24.620660Z",
     "start_time": "2019-10-21T03:55:24.259514Z"
    }
   },
   "outputs": [],
   "source": [
    "path_labels['label']= path_labels['label'].astype(str)  # cast label values as str dtype\n",
    "TrainPaths, ValidPaths = train_test_split(path_labels, test_size = 0.2,random_state = 220, stratify = path_labels['label']) # split pandas\n",
    "# dataframe 20% of valtrain data is saved as validation data using the random seed defined \n",
    "# above and stratified by 'labels' in panda dataframe\n"
   ]
  },
  {
   "cell_type": "markdown",
   "metadata": {
    "ExecuteTime": {
     "end_time": "2019-10-16T16:33:11.018220Z",
     "start_time": "2019-10-16T16:33:10.994251Z"
    },
    "heading_collapsed": true
   },
   "source": [
    "##### long method"
   ]
  },
  {
   "cell_type": "code",
   "execution_count": null,
   "metadata": {
    "ExecuteTime": {
     "end_time": "2019-10-16T16:33:25.288748Z",
     "start_time": "2019-10-16T16:33:25.126221Z"
    },
    "hidden": true
   },
   "outputs": [],
   "source": [
    "# the amount of validation data will be a percentage of the\n",
    "# *training* data\n",
    "VAL_SPLIT = .125\n",
    "\n",
    "# we'll be using part of the training data for validation \n",
    "\n",
    "# compute the index of training/validation split\n",
    "i = int(len(valtrainPaths)*VAL_SPLIT) \n",
    "# split image paths into valPaths and trainPaths\n",
    "valPaths = valtrainPaths[:i]\n",
    "trainPaths = valtrainPaths[i:]\n",
    "\n",
    "testPaths = list(paths.list_images(TEST_PATH))"
   ]
  },
  {
   "cell_type": "code",
   "execution_count": null,
   "metadata": {
    "ExecuteTime": {
     "end_time": "2019-10-16T16:33:26.791765Z",
     "start_time": "2019-10-16T16:33:26.760873Z"
    },
    "hidden": true
   },
   "outputs": [],
   "source": [
    "print(len(trainPaths), len(valPaths), len(testPaths))\n",
    "print(trainPaths[1],\"\\n\", valPaths[1] ,\"\\n\", testPaths[1])\n"
   ]
  },
  {
   "cell_type": "markdown",
   "metadata": {
    "hidden": true
   },
   "source": [
    "define datasets that we'll be building \n",
    "Here I’ve created a list of 3-tuples (called datasets ) containing:\n",
    "\n",
    "1. The name of the split\n",
    "2. The image paths for the split\n",
    "3. The path to the output directory for the split"
   ]
  },
  {
   "cell_type": "code",
   "execution_count": null,
   "metadata": {
    "ExecuteTime": {
     "end_time": "2019-10-15T15:43:16.597357Z",
     "start_time": "2019-10-15T15:43:16.558707Z"
    },
    "hidden": true
   },
   "outputs": [],
   "source": [
    "# define datasets that we'll be building \n",
    "datasets = [(\"training\", trainPaths, TRAIN_PATH),\n",
    "           (\"validation\", valPaths, VAL_PATH)\n",
    "           ]"
   ]
  },
  {
   "cell_type": "code",
   "execution_count": null,
   "metadata": {
    "ExecuteTime": {
     "end_time": "2019-10-04T20:39:07.023875Z",
     "start_time": "2019-10-04T20:39:06.827170Z"
    },
    "hidden": true,
    "scrolled": true
   },
   "outputs": [],
   "source": [
    "# inspecting project structure\n",
    "!tree --dirsfirst --filelimit 10"
   ]
  },
  {
   "cell_type": "code",
   "execution_count": null,
   "metadata": {
    "ExecuteTime": {
     "end_time": "2019-10-15T15:46:06.225992Z",
     "start_time": "2019-10-15T15:43:19.149075Z"
    },
    "hidden": true
   },
   "outputs": [],
   "source": [
    "# loop over the datasets\n",
    "for (dType, valtrainPaths, baseOutput) in datasets:\n",
    "\t# show which data split we are creating\n",
    "\tprint(\"[INFO] building '{}' split\".format(dType))\n",
    " \n",
    "\t# if the output base output directory does not exist, create it\n",
    "\tif not os.path.exists(baseOutput):\n",
    "\t\tprint(\"[INFO] 'creating {}' directory\".format(baseOutput))\n",
    "\t\tos.makedirs(baseOutput)\n",
    " \n",
    "\t# loop over the input image paths\n",
    "\tfor inputPath in valtrainPaths:\n",
    "\t\t# extract the filename of the input image along with its\n",
    "\t\t# corresponding class label\n",
    "\t\tfilename = inputPath.split(os.path.sep)[-1]\n",
    "\t\tlabel = inputPath.split(os.path.sep)[-2]\n",
    " \n",
    "\t\t# build the path to the label directory\n",
    "\t\tlabelPath = os.path.sep.join([baseOutput, label])\n",
    " \n",
    "\t\t# if the label output directory does not exist, create it\n",
    "\t\tif not os.path.exists(labelPath):\n",
    "\t\t\tprint(\"[INFO] 'creating {}' directory\".format(labelPath))\n",
    "\t\t\tos.makedirs(labelPath)\n",
    " \n",
    "\t\t# construct the path to the destination image and then copy\n",
    "\t\t# the image itself\n",
    "\t\tp = os.path.sep.join([labelPath, filename])\n",
    "\t\tshutil.copy2(inputPath, p)"
   ]
  },
  {
   "cell_type": "code",
   "execution_count": null,
   "metadata": {
    "ExecuteTime": {
     "end_time": "2019-10-15T15:52:40.176351Z",
     "start_time": "2019-10-15T15:52:39.509769Z"
    },
    "hidden": true
   },
   "outputs": [],
   "source": [
    "# determine the total number of image paths in training,validation\n",
    "# and training data\n",
    "totalTrain = len(list(paths.list_images(TRAIN_PATH)))\n",
    "totalValid = len(list(paths.list_images(VAL_PATH)))\n",
    "totalTest = len(list(paths.list_images(TEST_PATH)))\n",
    "# We’ll need these quantity values to determine the total number of steps \n",
    "# per epoch for the validation/testing process."
   ]
  },
  {
   "cell_type": "code",
   "execution_count": null,
   "metadata": {
    "ExecuteTime": {
     "end_time": "2019-10-07T16:20:05.561503Z",
     "start_time": "2019-10-07T16:20:05.509653Z"
    },
    "hidden": true
   },
   "outputs": [],
   "source": [
    "print(\"Train: \",totalTrain,\"\\n\", \"Valid: \",totalValid,\"\\n\", \\\n",
    "      \"Test: \",totalTest, \"\\n\")"
   ]
  },
  {
   "cell_type": "code",
   "execution_count": null,
   "metadata": {
    "hidden": true
   },
   "outputs": [],
   "source": []
  },
  {
   "cell_type": "markdown",
   "metadata": {},
   "source": [
    "#### COMMENT ABOUT FILE PATH for Imagedatagenerator\n",
    "I guess your path( \"C:\\Users\\user\\Downloads\\Research\\New folder\") has the images.\n",
    "You need to get those images and store it in a new folder inside the 'New Folder' so your path must look like - C:\\Users\\user\\Downloads\\Research\\New folder\\Sub_Dir_Containing_Images' . Then you must pass the same path again. Remember don't change the path!\n",
    "\n",
    "validation_generator = test_datagen.flow_from_directory(\n",
    "r'C:\\Users\\user\\Downloads\\Research\\New folder', ## No change in the path\n",
    "target_size=(28,28),\n",
    "batch_size=32,\n",
    "class_mode='binary')\n",
    "\n",
    "Also for deep dive, one must remember that ImageDataGenerator.flow_from_directory was created keeping in mind the good ol' image classification problem. So flow_from_directory() receives a folder name where different folder resides containing the images(traversal of nested sub directories). What most people tend to do is directly pass the the folder which contains the images."
   ]
  },
  {
   "cell_type": "markdown",
   "metadata": {
    "ExecuteTime": {
     "end_time": "2019-10-07T18:35:04.718377Z",
     "start_time": "2019-10-07T18:35:04.618673Z"
    }
   },
   "source": [
    "<font color=red> **Things to resolve** </font>\n",
    "1. Image size needs to be 64x64 or 96x96 would work \n",
    "2. Image cropping etc - \n",
    "3. Resnet in keras uses imagenet for weights...\n",
    "4. Understand how to implement transferlearning "
   ]
  },
  {
   "cell_type": "markdown",
   "metadata": {},
   "source": [
    "### Data Preprocessing - ignore code from here for modeling - text is useful\n",
    "This is important because significant reduction in the NN prediction errors is possible by conducting appropriate input data transformations a.k.a data preprocessing<sup>[1](#Datapreprocessing)</sup>\n",
    "\n",
    "<a name =\"Datapreprocessing\">1</a>: [Some methods of pre-processing input data\n",
    "for neural networks](https://pdfs.semanticscholar.org/9052/2abb6613f083faf19ebc7d51a74a215cf344.pdf)\n",
    "\n"
   ]
  },
  {
   "cell_type": "code",
   "execution_count": null,
   "metadata": {
    "ExecuteTime": {
     "end_time": "2019-10-15T15:52:35.181981Z",
     "start_time": "2019-10-15T15:52:34.884146Z"
    }
   },
   "outputs": [],
   "source": [
    "# set the matplotlib backend so figures can be saved in the \n",
    "# background\n",
    "%matplotlib inline\n",
    "import matplotlib\n",
    "#matplotlib.use(\"Agg\")\n",
    " \n",
    "# import the necessary packages\n",
    "    # keras is being use to train deep learning model\n",
    "\n",
    "from keras.callbacks import LearningRateScheduler\n",
    "from keras.optimizers import SGD\n",
    "    # sklearn is used to print classification_report\n",
    "from sklearn.metrics import classification_report\n",
    "    # grab paths from dataset \n",
    "from imutils import paths #needs opencv-python\n",
    "from matplotlib import pyplot as pltt\n",
    "import numpy as np # for numerical processing\n",
    "import argparse # for command line argument parsing.\n",
    "import csv\n",
    "import cv2\n",
    "\n",
    "\n",
    "# construct the argument parser and parse the arguments\n",
    "ap = argparse.ArgumentParser()\n",
    "ap.add_argument(\"-p\", \"--plot\", type=strfrom keras.preprocessing.image import ImageDataGenerator, default=\"plot.png\", help=\"path to output loss/accuracy plot\")\n",
    "#args = vars(ap.parse_args())"
   ]
  },
  {
   "cell_type": "code",
   "execution_count": null,
   "metadata": {
    "ExecuteTime": {
     "end_time": "2019-10-15T15:52:37.866815Z",
     "start_time": "2019-10-15T15:52:37.823708Z"
    }
   },
   "outputs": [],
   "source": [
    "# define the total number of epochs to train for along with the\n",
    "# initial learning rate and batch size\n",
    "NUM_EPOCHS = 50 # training iterations\n",
    "INIT_LR = 1e-1 # initial learning rate\n",
    "Batch_Size = 32 # batch size of 32 is good for CPUs, take 64 for GPUs\n",
    "\n",
    "# This function will help us decay our learning rate after each \n",
    "# epoch. We’re setting power = 1.0  which effectively turns our\n",
    "# polynomial decay into a linear decay.\n",
    "def poly_decay(epoch):\n",
    "\t# initialize the maximum number of epochs, base learning rate,\n",
    "\t# and power of the polynomial\n",
    "\tmaxEpochs = NUM_EPOCHS\n",
    "\tbaseLR = INIT_LR\n",
    "\tpower = 1.0\n",
    " \n",
    "\t# compute the new learning rate based on polynomial decay\n",
    "\talpha = baseLR * (1 - (epoch / float(maxEpochs))) ** power\n",
    " \n",
    "\t# return the new learning rate\n",
    "\treturn alpha"
   ]
  },
  {
   "cell_type": "code",
   "execution_count": null,
   "metadata": {},
   "outputs": [],
   "source": []
  },
  {
   "cell_type": "code",
   "execution_count": null,
   "metadata": {
    "ExecuteTime": {
     "end_time": "2019-10-15T15:52:40.176351Z",
     "start_time": "2019-10-15T15:52:39.509769Z"
    }
   },
   "outputs": [],
   "source": [
    "# determine the total number of image paths in training,validation\n",
    "# and training data\n",
    "totalTrain = len(list(paths.list_images(TRAIN_PATH)))\n",
    "totalValid = len(list(paths.list_images(VAL_PATH)))\n",
    "totalTest = len(list(paths.list_images(TEST_PATH)))\n",
    "# We’ll need these quantity values to determine the total number of steps \n",
    "# per epoch for the validation/testing process."
   ]
  },
  {
   "cell_type": "code",
   "execution_count": null,
   "metadata": {
    "ExecuteTime": {
     "end_time": "2019-10-07T16:20:05.561503Z",
     "start_time": "2019-10-07T16:20:05.509653Z"
    }
   },
   "outputs": [],
   "source": [
    "print(\"Train: \",totalTrain,\"\\n\", \"Valid: \",totalValid,\"\\n\", \\\n",
    "      \"Test: \",totalTest, \"\\n\")"
   ]
  },
  {
   "cell_type": "code",
   "execution_count": null,
   "metadata": {
    "ExecuteTime": {
     "end_time": "2019-10-09T20:27:02.424817Z",
     "start_time": "2019-10-09T20:27:02.303976Z"
    }
   },
   "outputs": [],
   "source": [
    "import csv\n",
    "label_count = sum(1 for row in csv.reader(open('/home/bithika/ml/pcam/train_labels.csv')))-1"
   ]
  },
  {
   "cell_type": "code",
   "execution_count": null,
   "metadata": {
    "ExecuteTime": {
     "end_time": "2019-10-09T20:27:07.977238Z",
     "start_time": "2019-10-09T20:27:07.942971Z"
    }
   },
   "outputs": [],
   "source": [
    "print(label_count)"
   ]
  },
  {
   "cell_type": "code",
   "execution_count": null,
   "metadata": {
    "ExecuteTime": {
     "end_time": "2019-10-08T02:55:17.034802Z",
     "start_time": "2019-10-08T02:55:16.986289Z"
    }
   },
   "outputs": [],
   "source": [
    "# printing pixel, format of an image file from train data\n",
    "from keras.preprocessing.image import load_img\n",
    "# load the image\n",
    "img = load_img(trainPaths[5])\n",
    "# report details about the image\n",
    "print(type(img))\n",
    "print(img.format)# TIFF\n",
    "print(img.mode)# RGB\n",
    "print(img.size) #96x96\n",
    "# show the image\n",
    "# img.show()\n",
    "# we can confirm that image loaded as a PIL (Python Image Library) image in Tiff format\n",
    "# with RGB channels and size of 96 x 96 pixels"
   ]
  },
  {
   "cell_type": "code",
   "execution_count": null,
   "metadata": {
    "ExecuteTime": {
     "end_time": "2019-10-08T03:15:14.155093Z",
     "start_time": "2019-10-08T03:15:14.108854Z"
    }
   },
   "outputs": [],
   "source": [
    "trainPaths[5]"
   ]
  },
  {
   "cell_type": "code",
   "execution_count": null,
   "metadata": {
    "ExecuteTime": {
     "end_time": "2019-10-08T03:27:28.414131Z",
     "start_time": "2019-10-08T03:27:28.363674Z"
    }
   },
   "outputs": [],
   "source": [
    "# convert the image to numpy array\n",
    "from keras_preprocessing.image import img_to_array\n",
    "img_array = img_to_array(img)\n",
    "print(img_array.dtype)\n",
    "print(img_array.shape)"
   ]
  },
  {
   "cell_type": "code",
   "execution_count": null,
   "metadata": {
    "ExecuteTime": {
     "end_time": "2019-10-07T21:09:54.043258Z",
     "start_time": "2019-10-07T21:09:53.993663Z"
    }
   },
   "outputs": [],
   "source": [
    "# convert the numpy array back to image\n",
    "from keras_preprocessing.image import array_to_img\n",
    "img_pil = array_to_img(img_array)\n",
    "print(type(img_pil))\n"
   ]
  },
  {
   "cell_type": "markdown",
   "metadata": {
    "heading_collapsed": true
   },
   "source": [
    "### Image data augmentation- ignore code from here for modeling - text is useful\n",
    "The performance of deep learning neural networks often improves with the amount of data available.\n",
    "\n",
    "Data augmentation is a technique to artificially create new training data from existing training data. This is done by applying domain-specific techniques to examples from the training data that create new and different training examples. Augmentation here does not refer to increasing the number of (totally distinct) training samples. Rather, it is the process of creating different variations of existing training samples\n",
    "\n",
    "Image data augmentation is perhaps the most well-known type of data augmentation and involves creating transformed versions of images in the training dataset that belong to the same class as the original image.\n",
    "\n",
    "Transforms include a range of operations from the field of image manipulation, such as shifts, flips, zooms, and much more.\n",
    "\n",
    "The intent is to expand the training dataset with new, plausible examples. This means, variations of the training set images that are likely to be seen by the model. For example, a horizontal flip of a picture of a cat may make sense, because the photo could have been taken from the left or right. A vertical flip of the photo of a cat does not make sense and would probably not be appropriate given that the model is very unlikely to see a photo of an upside down cat.\n",
    "\n",
    "As such, it is clear that the choice of the specific data augmentation techniques used for a training dataset must be chosen carefully and within the context of the training dataset and knowledge of the problem domain. In addition, it can be useful to experiment with data augmentation methods in isolation and in concert to see if they result in a measurable improvement to model performance, perhaps with a small prototype dataset, model, and training run.\n",
    "\n",
    "Modern deep learning algorithms, such as the convolutional neural network, or CNN, can learn features that are invariant to their location in the image. Nevertheless, augmentation can further aid in this transform invariant approach to learning and can aid the model in learning features that are also invariant to transforms such as left-to-right to top-to-bottom ordering, light levels in photographs, and more.\n",
    "\n",
    "Image data augmentation is typically only applied to the training dataset, and not to the validation or test dataset. This is different from data preparation such as image resizing and pixel scaling; they must be performed consistently across all datasets that interact with the model.\n",
    "\n",
    "**[Does ImageDataGenerator add more images to my dataset?](https://stackoverflow.com/questions/51748514/does-imagedatagenerator-add-more-images-to-my-dataset)**\n",
    "\n",
    "Short answer: 1) All the original images are just transformed (i.e. rotation, zooming, etc.) every epoch and then used for training, and 2) [Therefore] the number of images in each epoch is equal to the number of original images you have.\n",
    "\n",
    "Long answer: In each epoch, the ImageDataGenerator applies a transformation on the images you have and use the transformed images for training. The set of transformations includes rotation, zooming, etc. By doing this you're somehow creating new data (i.e. also called data augmentation), but obviously the generated images are not totally different from the original ones. This way the learned model may be more robust and accurate as it is trained on different variations of the same image.\n",
    "\n",
    "You need to set the steps_per_epoch argument of fit method to n_samples / batch_size, where n_samples is the total number of training data you have (i.e. 1000 in your case). This way in each epoch, each training sample is augmented only one time and therefore 1000 transformed images will be generated in each epoch."
   ]
  },
  {
   "cell_type": "code",
   "execution_count": null,
   "metadata": {
    "ExecuteTime": {
     "end_time": "2019-10-15T15:54:53.832185Z",
     "start_time": "2019-10-15T15:54:53.800244Z"
    },
    "hidden": true
   },
   "outputs": [],
   "source": [
    "# center crop images, introduce randomness in them, \n",
    "# make sure image size is same\n",
    "\n",
    "(height, width) = (128,128)# rescale images beacuse we will crop\n",
    "(def_height,def_width) = (96,96) # used for test data\n",
    "# crop height and width = (def_height,def_width)\n",
    "\n",
    "def random_crop(img,random_crop_height, random_crop_width ):\n",
    "    \"\"\"\n",
    "    Random crop of one image\n",
    "    \n",
    "    Arguments:\n",
    "    img -- one image as a numpy array with shape (upscaled_height,\n",
    "    upscaled_width,channels) \n",
    "    random_crop_height -- numerical value for desired height of image\n",
    "    random_crop_width -- numerical value for desired width of image\n",
    "    \n",
    "    Returns: cropped image as a sliced numpy array with shape \n",
    "    (random_crop_height, random_crop_width,3)\n",
    "    \"\"\"\n",
    "    \n",
    "    # Assume: img data format is in 'channel_last' [See: Imagedatagenerator]\n",
    "    assert img.shape[2]==3 \n",
    "    height, width = img.shape[0],img.shape[1]\n",
    "    (dy, dx) = (random_crop_height, random_crop_width)\n",
    "    x = np.random.randint(0,width-dx+1)\n",
    "    y = np.random.randint(0,height-dy+1)\n",
    "    return img[y:(y+dy),x:(x+dx),:]\n",
    "    \n",
    "\n",
    "    \n",
    "\n",
    "def crop_generator(batches, random_crop_height, random_crop_width):\n",
    "    \"\"\"\n",
    "    Generates random crop from image batches generated by original\n",
    "    iterator\n",
    "    \n",
    "    Arguments:\n",
    "    img --batch of images generated by Keras ImageDataGenerator \n",
    "          class, tensor of shape (batch_size,*target size, channels)\n",
    "    random_crop_height -- desired height of image, here 96\n",
    "    random_crop_width -- desired width of image, here 96\n",
    "    Note: height and width specified to allow for rectangular images\n",
    "    \n",
    "    \n",
    "    Yields: batches of cropped data [tensor of shape (batch_size,\n",
    "    *target size, channels)]\n",
    "    and numpy array of corresponding labels[tensor of shape (batch_\n",
    "    size,1)]\n",
    "    \"\"\"\n",
    "    while True:\n",
    "        batch_x, batch_y = next(batches)\n",
    "        batch_crops = np.zeros((batch_x.shape[0], random_crop_height,\\\n",
    "                               random_crop_width,3))\n",
    "        for i in range(batch_x.shape[0]):\n",
    "            batch_crops[i] = random_crop(batch_x[i],random_crop_height,\\\n",
    "                               random_crop_width )\n",
    "        yield (batch_crops, batch_y) # yields -> generator function\n",
    "        \n",
    "        \n",
    "    "
   ]
  },
  {
   "cell_type": "code",
   "execution_count": null,
   "metadata": {
    "ExecuteTime": {
     "end_time": "2019-10-17T16:25:38.685133Z",
     "start_time": "2019-10-17T16:25:38.642909Z"
    },
    "hidden": true
   },
   "outputs": [],
   "source": [
    "# initialize the training training data augmentation object\n",
    "    # rescale \n",
    "trainAugmentation = ImageDataGenerator(\n",
    "    # include? preprocessing_function=preprocess_input \n",
    "\trescale=1 / 255.0, # normalisation: scaling data to the range\n",
    "    # of 0-1\n",
    "    rotation_range= 20, # degrees\n",
    "    # Horizontal and Vertical Shift Augmentation\n",
    "    width_shift_range=0.5, # fraction of total width\n",
    "    height_shift_range=0.5, # fraction of total height\n",
    "    zoom_range=0.05, # i.e zoom range is [0.95,1.05] \n",
    "    # not sure about keeping 0.05\n",
    "    shear_range=20, \n",
    "\thorizontal_flip=True,\n",
    "    fill_mode=\"nearest\")\n",
    " \n",
    "# initialize the validation (and testing) data augmentation object\n",
    "val_test_Augmentation = ImageDataGenerator(rescale=1 / 255.0)"
   ]
  },
  {
   "cell_type": "markdown",
   "metadata": {
    "heading_collapsed": true,
    "hidden": true
   },
   "source": [
    "##### Details of flow_from_directory method and functions inside it "
   ]
  },
  {
   "cell_type": "markdown",
   "metadata": {
    "hidden": true
   },
   "source": [
    "\n",
    "~~~~~~~~~~~~~~~~~~~~~~~~~~~~~~~~~~~~~~~~~~~~~~~~~~~~~~~~~~~{.python}\n",
    "flow_from_directory(directory, target_size=(256, 256), color_mode='rgb', classes=None, class_mode='categorical', batch_size=32, shuffle=True, seed=None, save_to_dir=None, save_prefix='', save_format='png', follow_links=False, subset=None, interpolation='nearest')\n",
    "~~~~~~~~~~~~~~~~~~~~~~~~~~~~~~~~~~~~~~~~~~~~~~~~~~~~~~~~~~~\n",
    "\n",
    "1. directory: path of the training, validation and test data\n",
    "2. target_size: Tuple of integers (height, width). Train and valid \n",
    "    data will be upscaled so that they can be cropped\n",
    "3. color_mode: \"rgb\"- images have 3 channels\n",
    "4. class_mode: categorical - one hot encoded label \n",
    "    this is used because ML algorithms cannot operate on label     directly. \n",
    "    [Categorical data](https://machinelearningmastery.com/why-one-hot-encode-data-in-machine-learning/) are variables that contain label values rather than numeric values.\n",
    "\n",
    "    The number of possible values is often limited to a fixed set.\n",
    "\n",
    "    Categorical variables are often called nominal.\n",
    "\n",
    "    Some examples include:\n",
    "\n",
    "    A “pet” variable with the values: “dog” and “cat“.\n",
    "    A “color” variable with the values: “red“, “green” and “blue“.\n",
    "    A “place” variable with the values: “first”, “second” and “third“.\n",
    "    Each value represents a different category.\n",
    "\n",
    "    Some categories may have a natural relationship to each other, such as a natural ordering.\n",
    "\n",
    "    The “place” variable above does have a natural ordering of values. This type of categorical variable is called an ordinal variable.\n",
    "    Categorical data must be converted into the numerical form. This is done in two steps:\n",
    "    1. Integer Encoding:\n",
    "        As a first step, each unique category value is assigned an integer value.\n",
    "\n",
    "        For example, “red” is 1, “green” is 2, and “blue” is 3.\n",
    "\n",
    "        This is called a label encoding or an integer encoding and is easily reversible.\n",
    "\n",
    "        For some variables, this may be enough.\n",
    "\n",
    "        The integer values have a natural ordered relationship between each other and machine learning algorithms may be able to understand and harness this relationship.\n",
    "\n",
    "        For example, ordinal variables like the “place” example above would be a good example where a label encoding would be sufficient.\n",
    "    2. One-hot encoding\n",
    "        For categorical variables where no such ordinal relationship exists, the integer encoding is not enough.\n",
    "\n",
    "        In fact, using this encoding and allowing the model to assume a natural ordering between categories may result in poor performance or unexpected results (predictions halfway between categories).\n",
    "\n",
    "        In this case, a one-hot encoding can be applied to the integer representation. This is where the integer encoded variable is removed and a new binary variable is added for each unique integer value.\n",
    "\n",
    "        In the “color” variable example, there are 3 categories and therefore 3 binary variables are needed. A “1” value is placed in the binary variable for the color and “0” values for the other colors.\n",
    "\n",
    "        For example\n",
    "        \n",
    "        \n",
    "| Red| Greem | Blue |\n",
    "| --- | --- | --- |\n",
    "| 1,| 0, | 0, |  \n",
    "| 0,| 1, | 0, | \n",
    "| 0,| 0, | 1, |\n",
    "\n",
    "         The binary variables are often called “dummy variables”  in other fields, such as statistics.\n",
    "5. batch_size: kept 32 can be 64 for GPUs - could be changed if CPU/GPU runs out of memory\n",
    "6. shuffle: default is True. We keep it True only for train data\n",
    "7. interpolation: eeded as target size differs from loaded size\n",
    "     more options depending on PIL VERSION see keras\n",
    "    and then https://pillow.readthedocs.io/en/5.2.x/handbook/concepts.html)\n",
    "     based on Filters comparison table in the above link \"bicubic\"\n",
    "    #supersedes other options"
   ]
  },
  {
   "cell_type": "code",
   "execution_count": null,
   "metadata": {
    "ExecuteTime": {
     "end_time": "2019-10-15T15:55:04.231670Z",
     "start_time": "2019-10-15T15:55:00.165428Z"
    },
    "hidden": true
   },
   "outputs": [],
   "source": [
    "# THIS IS INCORRECT - WE ALREADY HAVE LABELS FOR TRAIN DATA\n",
    "# initialize the training generator\n",
    "TrainBatch = trainAugmentation.flow_from_directory( \n",
    "\tTRAIN_PATH,\n",
    "\tclass_mode=\"categorical\",\n",
    "\ttarget_size=(height, width),\n",
    "\tcolor_mode=\"rgb\",\n",
    "\tshuffle=True, # Shuffle image paths only for the training generator.\n",
    "\tbatch_size=Batch_Size, \n",
    "    interpolation=\"bicubic\") \n",
    "    # needed as target size differs from loaded size\n",
    "    # more options depending on PIL VERSION see keras\n",
    "    # and then https://pillow.readthedocs.io/en/5.2.x/handbook/concepts.html)\n",
    "    # based on Filters comparison table in the above link \"bicubic\"\n",
    "    # supersedes other options\n",
    "\n",
    "# initialize the validation generator\n",
    "ValBatch = val_test_Augmentation.flow_from_directory(\n",
    "\tVAL_PATH,\n",
    "\tclass_mode=\"categorical\",  \n",
    "\ttarget_size=(height, width),\n",
    "\tcolor_mode=\"rgb\",\n",
    "\tshuffle=False,\n",
    "\tbatch_size=Batch_Size,\n",
    "    interpolation=\"bicubic\")\n",
    "    \n",
    "# initialize the testing generator\n",
    "TestBatch = val_test_Augmentation.flow_from_directory(\n",
    "\tTEST_PATH,\n",
    "\tclass_mode=\"categorical\",\n",
    "\ttarget_size=(def_height,def_width),\n",
    "\tcolor_mode=\"rgb\",\n",
    "\tshuffle=False,\n",
    "\tbatch_size=Batch_Size)"
   ]
  },
  {
   "cell_type": "markdown",
   "metadata": {
    "ExecuteTime": {
     "end_time": "2019-10-15T19:21:48.869919Z",
     "start_time": "2019-10-15T19:21:48.853588Z"
    },
    "heading_collapsed": true,
    "hidden": true
   },
   "source": [
    "#### Display data"
   ]
  },
  {
   "cell_type": "markdown",
   "metadata": {
    "hidden": true
   },
   "source": [
    " We want to display some random samples of the data so we can get some understanding of what we are feeding into our network. This is a binary classification problem so there's only two classes (0-1)"
   ]
  },
  {
   "cell_type": "code",
   "execution_count": null,
   "metadata": {
    "ExecuteTime": {
     "end_time": "2019-10-10T17:19:37.360483Z",
     "start_time": "2019-10-10T17:19:37.166847Z"
    },
    "hidden": true
   },
   "outputs": [],
   "source": [
    "# lets load labels as a pandas DataFrame\n",
    "import pandas \n",
    "\n",
    "labels = pandas.read_csv(os.path.join(ORIG_INPUT_DATASET,'train_labels.csv'))"
   ]
  },
  {
   "cell_type": "code",
   "execution_count": null,
   "metadata": {
    "ExecuteTime": {
     "end_time": "2019-10-09T20:16:58.860304Z",
     "start_time": "2019-10-09T20:16:58.796934Z"
    },
    "hidden": true
   },
   "outputs": [],
   "source": [
    "labels[:5] # printing just first 4 rows from the pandas DataFrame"
   ]
  },
  {
   "cell_type": "code",
   "execution_count": null,
   "metadata": {
    "ExecuteTime": {
     "end_time": "2019-10-10T17:20:51.536443Z",
     "start_time": "2019-10-10T17:20:49.780573Z"
    },
    "hidden": true
   },
   "outputs": [],
   "source": [
    "# create a sample dictionary with img_name and img_path from TrainBatch\n",
    "idx = (TrainBatch.batch_index - 1) * TrainBatch.batch_size\n",
    "\n",
    "finfo = {}\n",
    "for i in range(idx, idx + 9 # max value TrainBatch.batch_size\n",
    "                           ):\n",
    "    finfo[(os.path.split(TrainBatch.filenames[TrainBatch.index_array[i]])[1]).\\\n",
    "          split('.')[0]]=[TrainBatch.filepaths[TrainBatch.index_array[i]]] # notice the brackets in the value \n",
    "    # of the dictionary - this sets the values as a list\n",
    "    # this allows us to add more values to the same key using get \n",
    "    # https://stackoverflow.com/questions/46035128/python-dictionary-contains-list-set-as-value-how-to-append-add-new-element-to-i"
   ]
  },
  {
   "cell_type": "code",
   "execution_count": null,
   "metadata": {
    "ExecuteTime": {
     "end_time": "2019-10-10T17:22:36.724698Z",
     "start_time": "2019-10-10T17:22:36.623155Z"
    },
    "hidden": true,
    "scrolled": true
   },
   "outputs": [],
   "source": [
    "# updating finfo with csv labels corresponding to images \n",
    "for img_name, img_path in finfo.items():\n",
    "    finfo[img_name] = finfo.get(img_name,[])+[labels.loc[labels['id'] == img_name,'label'].values[0]]"
   ]
  },
  {
   "cell_type": "code",
   "execution_count": null,
   "metadata": {
    "ExecuteTime": {
     "end_time": "2019-10-10T21:07:45.544583Z",
     "start_time": "2019-10-10T21:07:45.407485Z"
    },
    "hidden": true
   },
   "outputs": [],
   "source": [
    "finfo"
   ]
  },
  {
   "cell_type": "code",
   "execution_count": null,
   "metadata": {
    "ExecuteTime": {
     "end_time": "2019-10-10T19:59:11.771692Z",
     "start_time": "2019-10-10T19:59:11.720373Z"
    },
    "hidden": true
   },
   "outputs": [],
   "source": [
    "# NOW LEARN TO PLOT IN MATPLOTLIB\n",
    "from matplotlib import pyplot\n"
   ]
  },
  {
   "cell_type": "code",
   "execution_count": null,
   "metadata": {
    "ExecuteTime": {
     "end_time": "2019-10-10T20:58:16.154877Z",
     "start_time": "2019-10-10T20:58:15.941970Z"
    },
    "hidden": true
   },
   "outputs": [],
   "source": [
    "\n",
    "pyplot.rcParams[\"figure.figsize\"] = (15,5)\n",
    "im_k = load_img(finfo['0bcb1f9daf083b8a7e41bab54dcb18a202d71073'][0])\n",
    "im_n = img_to_array(im_k)\n",
    "\n",
    "# just create a black figure\n",
    "fig = pyplot.figure()\n",
    "\n",
    "# this command does TWO things:\n",
    "# 1. fill the blank figure \"fig\" with a 2 x 3 array of AXES\n",
    "# 2. and returns the AXES numbered 1\n",
    "ax1 = fig.add_subplot(2,3,1)\n",
    "# Now \"ax\" stores the location of the AXIS numbered 1. \n",
    "# Anything you do to \"ax\" here will be done to the axis labeled 1\n",
    "ax1.set_title(\"BITH\")\n",
    "ax1.imshow(im_n/255); # or use im_n.astype('uint8') \n",
    "\n",
    "\n",
    "# 2. returns the AXES numbered 5\n",
    "ax2 = fig.add_subplot(235)\n",
    "# Now \"ax\" stores the location of the AXIS numbered 1. \n",
    "# Anything you do to \"ax\" here will be done to the axis labeled 1\n",
    "ax2.set_title(4)\n",
    "ax2.plot([0, 1, 10], [11, 13, 22]);\n",
    "\n",
    "\n",
    "#fig.add_subplot(441)"
   ]
  },
  {
   "cell_type": "code",
   "execution_count": null,
   "metadata": {
    "ExecuteTime": {
     "end_time": "2019-10-10T21:04:04.545478Z",
     "start_time": "2019-10-10T21:04:03.598863Z"
    },
    "hidden": true
   },
   "outputs": [],
   "source": [
    "pyplot.rcParams[\"figure.figsize\"] = (15,15)\n",
    "\n",
    "# just create a black figure\n",
    "fig = pyplot.figure()\n",
    "\n",
    "i = 0\n",
    "for img_name in finfo:\n",
    "    ## Read in the current image\n",
    "    image_keras = load_img(finfo[img_name][0])\n",
    "    # Convert image to numpy array\n",
    "    image_array = img_to_array(image_keras)\n",
    "    ## Get the current axis\n",
    "    ax = fig.add_subplot(330 + 1 + i)\n",
    "    ax.set_title(finfo[img_name][1])\n",
    "    ## PLOT on the current axis\n",
    "    ax.imshow(image_array.astype('uint8'))\n",
    "    ## INcrement i\n",
    "    i+=1\n",
    "\n"
   ]
  },
  {
   "cell_type": "markdown",
   "metadata": {
    "ExecuteTime": {
     "end_time": "2019-10-08T20:32:10.919942Z",
     "start_time": "2019-10-08T20:32:10.596170Z"
    },
    "hidden": true
   },
   "source": [
    "###### scratch"
   ]
  },
  {
   "cell_type": "code",
   "execution_count": null,
   "metadata": {
    "ExecuteTime": {
     "end_time": "2019-10-08T20:37:57.205453Z",
     "start_time": "2019-10-08T20:37:56.882343Z"
    },
    "hidden": true,
    "scrolled": false
   },
   "outputs": [],
   "source": [
    "############# SCRATCH WORK ###############\n",
    "\n",
    "#looking at the iterators \n",
    "(x,y)=TrainBatch[1]\n",
    "print(x.shape, \"\\n\",y.shape)\n",
    "print(type(TrainBatch))\n",
    "print(type(x), type(y))\n",
    "# TrainBatch is a directory iterator with tuples (x,y)\n",
    "# x is a numpy array contraining batch size, target size i.e \n",
    "# height, width and channels\n",
    "# y is numpy array of corresponding labels\n"
   ]
  },
  {
   "cell_type": "code",
   "execution_count": null,
   "metadata": {
    "ExecuteTime": {
     "end_time": "2019-10-08T20:36:18.003383Z",
     "start_time": "2019-10-08T20:36:17.896142Z"
    },
    "hidden": true
   },
   "outputs": [],
   "source": [
    "(x,y)=ValBatch[1]\n",
    "print(x.shape, \"\\n\",y.shape)"
   ]
  },
  {
   "cell_type": "code",
   "execution_count": null,
   "metadata": {
    "ExecuteTime": {
     "end_time": "2019-10-08T20:36:28.752869Z",
     "start_time": "2019-10-08T20:36:28.607902Z"
    },
    "hidden": true
   },
   "outputs": [],
   "source": [
    "(x,y)=TestBatch[1]\n",
    "print(x.shape, \"\\n\",y.shape)"
   ]
  },
  {
   "cell_type": "code",
   "execution_count": null,
   "metadata": {
    "ExecuteTime": {
     "end_time": "2019-10-08T21:39:04.552847Z",
     "start_time": "2019-10-08T21:39:04.477223Z"
    },
    "hidden": true
   },
   "outputs": [],
   "source": [
    "try_img =ValBatch"
   ]
  },
  {
   "cell_type": "code",
   "execution_count": null,
   "metadata": {
    "ExecuteTime": {
     "end_time": "2019-10-08T21:41:56.926590Z",
     "start_time": "2019-10-08T21:41:56.859814Z"
    },
    "hidden": true
   },
   "outputs": [],
   "source": [
    "x[1].shape"
   ]
  },
  {
   "cell_type": "code",
   "execution_count": null,
   "metadata": {
    "ExecuteTime": {
     "end_time": "2019-10-08T21:41:31.903434Z",
     "start_time": "2019-10-08T21:41:31.827401Z"
    },
    "hidden": true
   },
   "outputs": [],
   "source": [
    "type(x[1])"
   ]
  },
  {
   "cell_type": "markdown",
   "metadata": {
    "heading_collapsed": true,
    "hidden": true
   },
   "source": [
    "#### Cropping data - to be used later"
   ]
  },
  {
   "cell_type": "code",
   "execution_count": null,
   "metadata": {
    "ExecuteTime": {
     "end_time": "2019-10-10T19:56:22.563534Z",
     "start_time": "2019-10-10T19:56:22.533420Z"
    },
    "hidden": true
   },
   "outputs": [],
   "source": [
    "TrainCrops = crop_generator(TrainBatch, def_height, def_width)\n",
    "ValCrops = crop_generator(ValBatch, def_height, def_width)"
   ]
  },
  {
   "cell_type": "code",
   "execution_count": null,
   "metadata": {
    "ExecuteTime": {
     "end_time": "2019-10-10T19:56:24.548855Z",
     "start_time": "2019-10-10T19:56:24.089349Z"
    },
    "hidden": true
   },
   "outputs": [],
   "source": [
    "batch_x, batch_y = next(TrainCrops)\n",
    "#batch_x.shape\n",
    "matplotlib.pyplot.imshow(batch_x[1]);"
   ]
  },
  {
   "cell_type": "code",
   "execution_count": null,
   "metadata": {
    "ExecuteTime": {
     "end_time": "2019-10-10T19:56:42.544183Z",
     "start_time": "2019-10-10T19:56:42.491363Z"
    },
    "hidden": true
   },
   "outputs": [],
   "source": [
    "type(batch_x)"
   ]
  },
  {
   "cell_type": "code",
   "execution_count": null,
   "metadata": {
    "ExecuteTime": {
     "end_time": "2019-10-10T05:22:44.974294Z",
     "start_time": "2019-10-10T05:22:44.480995Z"
    },
    "hidden": true
   },
   "outputs": [],
   "source": [
    "batch_x, batch_y = next(TrainBatch)\n",
    "print(batch_x[1].shape, batch_y.shape)\n",
    "matplotlib.pyplot.imshow(batch_x[1])"
   ]
  },
  {
   "cell_type": "code",
   "execution_count": null,
   "metadata": {
    "ExecuteTime": {
     "end_time": "2019-10-09T14:33:16.979031Z",
     "start_time": "2019-10-09T14:33:16.925086Z"
    },
    "hidden": true
   },
   "outputs": [],
   "source": [
    "im=(batch_x[1])"
   ]
  },
  {
   "cell_type": "code",
   "execution_count": null,
   "metadata": {
    "ExecuteTime": {
     "end_time": "2019-10-09T14:33:19.781809Z",
     "start_time": "2019-10-09T14:33:19.632153Z"
    },
    "hidden": true
   },
   "outputs": [],
   "source": [
    "plt.imshow(im)"
   ]
  },
  {
   "cell_type": "markdown",
   "metadata": {
    "ExecuteTime": {
     "end_time": "2019-10-16T17:24:27.389082Z",
     "start_time": "2019-10-16T17:24:27.355625Z"
    }
   },
   "source": [
    "### Data augmentation using data from train_test_split function"
   ]
  },
  {
   "cell_type": "code",
   "execution_count": null,
   "metadata": {},
   "outputs": [],
   "source": [
    "# crop height and width = (def_height,def_width)\n",
    "\n",
    "def random_crop(img,random_crop_height, random_crop_width ):\n",
    "    \"\"\"\n",
    "    Random crop of one image\n",
    "    \n",
    "    Arguments:\n",
    "    img -- one image as a numpy array with shape (upscaled_height,\n",
    "    upscaled_width,channels) \n",
    "    random_crop_height -- numerical value for desired height of image\n",
    "    random_crop_width -- numerical value for desired width of image\n",
    "    \n",
    "    Returns: cropped image as a sliced numpy array with shape \n",
    "    (random_crop_height, random_crop_width,3)\n",
    "    \"\"\"\n",
    "    \n",
    "    # Assume: img data format is in 'channel_last' [See: Imagedatagenerator]\n",
    "    assert img.shape[2]==3 \n",
    "    height, width = img.shape[0],img.shape[1]\n",
    "    (dy, dx) = (random_crop_height, random_crop_width)\n",
    "    x = np.random.randint(0,width-dx+1)\n",
    "    y = np.random.randint(0,height-dy+1)\n",
    "    return img[y:(y+dy),x:(x+dx),:]\n",
    "    \n",
    "\n",
    "    \n",
    "\n",
    "def crop_generator(batches, random_crop_height, random_crop_width):\n",
    "    \"\"\"\n",
    "    Generates random crop from image batches generated by original\n",
    "    iterator\n",
    "    \n",
    "    Arguments:\n",
    "    img --batch of images generated by Keras ImageDataGenerator \n",
    "          class, tensor of shape (batch_size,*target size, channels)\n",
    "    random_crop_height -- desired height of image, here 96\n",
    "    random_crop_width -- desired width of image, here 96\n",
    "    Note: height and width specified to allow for rectangular images\n",
    "    \n",
    "    \n",
    "    Yields: batches of cropped data [tensor of shape (batch_size,\n",
    "    *target size, channels)]\n",
    "    and numpy array of corresponding labels[tensor of shape (batch_\n",
    "    size,1)]\n",
    "    \"\"\"\n",
    "    while True:\n",
    "        batch_x, batch_y = next(batches)\n",
    "        batch_crops = np.zeros((batch_x.shape[0], random_crop_height,\\\n",
    "                               random_crop_width,3))\n",
    "        for i in range(batch_x.shape[0]):\n",
    "            batch_crops[i] = random_crop(batch_x[i],random_crop_height,\\\n",
    "                               random_crop_width )\n",
    "        yield (batch_crops, batch_y) # yields -> generator function"
   ]
  },
  {
   "cell_type": "code",
   "execution_count": 23,
   "metadata": {
    "ExecuteTime": {
     "end_time": "2019-10-21T03:55:41.088895Z",
     "start_time": "2019-10-21T03:55:41.065930Z"
    }
   },
   "outputs": [],
   "source": [
    "# initialize the training training data augmentation object\n",
    "    # rescale \n",
    "TrainAugmentation = ImageDataGenerator(\n",
    "    # include? preprocessing_function=preprocess_input only if using keras inbuilt resnet\n",
    "\trescale=1 / 255.0, # normalisation: scaling data to the range\n",
    "    # of 0-1\n",
    "    rotation_range= 90, # degrees\n",
    "    # Horizontal and Vertical Shift Augmentation\n",
    "    width_shift_range=0.1, # fraction of total width\n",
    "    height_shift_range=0.1, # fraction of total height\n",
    "    zoom_range=0.2, # i.e zoom range is [0.95,1.05] \n",
    "    # not sure about keeping 0.05\n",
    "    shear_range=0.05, \n",
    "\thorizontal_flip=True,\n",
    "    vertical_flip= True\n",
    "    )\n",
    "\n",
    "# fill_mode=\"nearest\"\n",
    "\n",
    "# initialize the validation (and testing) data augmentation object\n",
    "Val_Test_Augmentation = ImageDataGenerator(rescale=1 / 255.0)"
   ]
  },
  {
   "cell_type": "code",
   "execution_count": 24,
   "metadata": {
    "ExecuteTime": {
     "end_time": "2019-10-21T03:55:45.769502Z",
     "start_time": "2019-10-21T03:55:44.557059Z"
    }
   },
   "outputs": [
    {
     "name": "stdout",
     "output_type": "stream",
     "text": [
      "Found 176020 validated image filenames belonging to 2 classes.\n"
     ]
    }
   ],
   "source": [
    "TrainGenerator = TrainAugmentation.flow_from_dataframe(dataframe = TrainPaths, \n",
    "                                                       directory = None, \n",
    "                                                       x_col = 'path',\n",
    "                                                       y_col = 'label',\n",
    "                                                       color_mode = \"rgb\",\n",
    "                                                       target_size = (HEIGHT, WIDTH),\n",
    "                                                       class_mode = \"binary\",\n",
    "                                                       batch_size = BATCH_SIZE, \n",
    "                                                       seed = 10986,\n",
    "                                                       shuffle = True)\n",
    "# could use interpolation = \"bicubic\" if I intend to crop the images"
   ]
  },
  {
   "cell_type": "code",
   "execution_count": 25,
   "metadata": {
    "ExecuteTime": {
     "end_time": "2019-10-21T03:55:50.375996Z",
     "start_time": "2019-10-21T03:55:50.068787Z"
    }
   },
   "outputs": [
    {
     "name": "stdout",
     "output_type": "stream",
     "text": [
      "Found 44005 validated image filenames belonging to 2 classes.\n"
     ]
    }
   ],
   "source": [
    "ValidGenerator = Val_Test_Augmentation.flow_from_dataframe(dataframe = ValidPaths,\n",
    "                                                           directory = None,\n",
    "                                                           x_col = 'path',\n",
    "                                                           y_col = 'label',\n",
    "                                                           target_size = (HEIGHT, WIDTH),\n",
    "                                                           color_mode = \"rgb\",\n",
    "                                                           class_mode = \"binary\",\n",
    "                                                           batch_size = BATCH_SIZE, \n",
    "                                                           shuffle = False) # shuffling is \n",
    "                                                           "
   ]
  },
  {
   "cell_type": "markdown",
   "metadata": {},
   "source": [
    "### Creating the model\n",
    "\n",
    "CNN has two parts: <sup>[1](#Source)</sup>\n",
    "1. **Convolutional base:** which is composed by a stack of convolutional and pooling layers. The main goal of the convolutional base is to generate features from the image. For an intuitive explanation of convolutional and pooling layers, please refer to Chollet (2017)\n",
    "2. **Classifier:** which is usually composed by fully connected layers. The main goal of the classifier is to classify the image based on the detected features. A fully connected layer is a layer whose neurons have full connections to all activation in the previous layer.\n",
    "\n",
    "Figure 1 shows the architecture of a model based on CNN. Note that this is a simplified version, which fits the purposes of this text. In fact, the architecture of this type of model is more complex than what we suggest here.\n",
    "\n",
    "<img src=\"architecture of CNN.png\" style=\"width:200px;height:450px;\">\n",
    "<caption><center> <u> <font color='purple'> Figure 1 </u><font color='purple'>  : Architecture of model based on CNN </center></caption>\n",
    "    \n",
    "One important aspect of these deep learning models is that they can automatically learn hierarchical feature representations. This means that features computed by the first layer are general and can be reused in different problem domains, while features computed by the last layer are specific and depend on the chosen dataset and task. According to Yosinski et al. (2014), ‘if first-layer features are general and last-layer features are specific, then there must be a transition from general to specific somewhere in the network’. As a result, the convolutional base of our CNN — especially its lower layers (those who are closer to the inputs) — refer to general features, whereas the classifier part, and some of the higher layers of the convolutional base, refer to specialised features.\n",
    "\n",
    "<a name=\"Source\">1</a>: Taken from [Towards data science article](https://towardsdatascience.com/transfer-learning-from-pre-trained-models-f2393f124751)"
   ]
  },
  {
   "cell_type": "markdown",
   "metadata": {},
   "source": [
    "#### Short method"
   ]
  },
  {
   "cell_type": "code",
   "execution_count": 27,
   "metadata": {
    "ExecuteTime": {
     "end_time": "2019-10-21T03:58:49.748197Z",
     "start_time": "2019-10-21T03:58:49.718750Z"
    }
   },
   "outputs": [
    {
     "data": {
      "text/plain": [
       "(224, 224)"
      ]
     },
     "execution_count": 27,
     "metadata": {},
     "output_type": "execute_result"
    }
   ],
   "source": [
    "(HEIGHT, WIDTH)"
   ]
  },
  {
   "cell_type": "code",
   "execution_count": 3,
   "metadata": {
    "ExecuteTime": {
     "end_time": "2019-10-21T04:00:55.391870Z",
     "start_time": "2019-10-21T04:00:49.131250Z"
    }
   },
   "outputs": [
    {
     "name": "stdout",
     "output_type": "stream",
     "text": [
      "WARNING:tensorflow:From /home/bithika/local/anaconda3/envs/tf_gpu/lib/python3.7/site-packages/keras/backend/tensorflow_backend.py:74: The name tf.get_default_graph is deprecated. Please use tf.compat.v1.get_default_graph instead.\n",
      "\n",
      "WARNING:tensorflow:From /home/bithika/local/anaconda3/envs/tf_gpu/lib/python3.7/site-packages/keras/backend/tensorflow_backend.py:517: The name tf.placeholder is deprecated. Please use tf.compat.v1.placeholder instead.\n",
      "\n",
      "WARNING:tensorflow:From /home/bithika/local/anaconda3/envs/tf_gpu/lib/python3.7/site-packages/keras/backend/tensorflow_backend.py:4185: The name tf.truncated_normal is deprecated. Please use tf.random.truncated_normal instead.\n",
      "\n",
      "WARNING:tensorflow:From /home/bithika/local/anaconda3/envs/tf_gpu/lib/python3.7/site-packages/keras/backend/tensorflow_backend.py:174: The name tf.get_default_session is deprecated. Please use tf.compat.v1.get_default_session instead.\n",
      "\n",
      "WARNING:tensorflow:From /home/bithika/local/anaconda3/envs/tf_gpu/lib/python3.7/site-packages/keras/backend/tensorflow_backend.py:181: The name tf.ConfigProto is deprecated. Please use tf.compat.v1.ConfigProto instead.\n",
      "\n",
      "WARNING:tensorflow:From /home/bithika/local/anaconda3/envs/tf_gpu/lib/python3.7/site-packages/keras/backend/tensorflow_backend.py:1834: The name tf.nn.fused_batch_norm is deprecated. Please use tf.compat.v1.nn.fused_batch_norm instead.\n",
      "\n",
      "WARNING:tensorflow:From /home/bithika/local/anaconda3/envs/tf_gpu/lib/python3.7/site-packages/keras/backend/tensorflow_backend.py:3976: The name tf.nn.max_pool is deprecated. Please use tf.nn.max_pool2d instead.\n",
      "\n"
     ]
    },
    {
     "name": "stderr",
     "output_type": "stream",
     "text": [
      "/home/bithika/local/anaconda3/envs/tf_gpu/lib/python3.7/site-packages/keras_applications/resnet50.py:265: UserWarning: The output shape of `ResNet50(include_top=False)` has been changed since Keras 2.2.0.\n",
      "  warnings.warn('The output shape of `ResNet50(include_top=False)` '\n"
     ]
    }
   ],
   "source": [
    "# load pretrained ResNet-50 \n",
    "# Convolutional base, which performs feature extraction.\n",
    "ConvolutionalBase = ResNet50(include_top=False, weights='imagenet', input_shape=(HEIGHT, WIDTH,3))"
   ]
  },
  {
   "cell_type": "code",
   "execution_count": 27,
   "metadata": {
    "ExecuteTime": {
     "end_time": "2019-10-21T02:19:41.491984Z",
     "start_time": "2019-10-21T02:19:41.470021Z"
    }
   },
   "outputs": [],
   "source": [
    "# Classifier: Use fully connected layers. In this classifier we add a stack of \n",
    "# fully-connected layers which is fed by features extracted from the convolutional base\n",
    "\n",
    "\n",
    "\n",
    "\n",
    "model = Sequential() #crease a sqequntial model"
   ]
  },
  {
   "cell_type": "code",
   "execution_count": 28,
   "metadata": {
    "ExecuteTime": {
     "end_time": "2019-10-21T02:19:46.297944Z",
     "start_time": "2019-10-21T02:19:43.885222Z"
    }
   },
   "outputs": [],
   "source": [
    "# add layers \n",
    "\n",
    "model.add(ConvolutionalBase)"
   ]
  },
  {
   "cell_type": "code",
   "execution_count": 29,
   "metadata": {
    "ExecuteTime": {
     "end_time": "2019-10-21T02:19:47.117030Z",
     "start_time": "2019-10-21T02:19:47.086467Z"
    }
   },
   "outputs": [
    {
     "name": "stdout",
     "output_type": "stream",
     "text": [
      "_________________________________________________________________\n",
      "Layer (type)                 Output Shape              Param #   \n",
      "=================================================================\n",
      "resnet50 (Model)             (None, 7, 7, 2048)        23587712  \n",
      "=================================================================\n",
      "Total params: 23,587,712\n",
      "Trainable params: 23,534,592\n",
      "Non-trainable params: 53,120\n",
      "_________________________________________________________________\n"
     ]
    }
   ],
   "source": [
    "model.summary()"
   ]
  },
  {
   "cell_type": "code",
   "execution_count": 30,
   "metadata": {
    "ExecuteTime": {
     "end_time": "2019-10-21T02:19:50.393568Z",
     "start_time": "2019-10-21T02:19:50.362427Z"
    }
   },
   "outputs": [],
   "source": [
    "model.add(Flatten())# A tensor, reshaped into 1-D"
   ]
  },
  {
   "cell_type": "code",
   "execution_count": null,
   "metadata": {
    "ExecuteTime": {
     "end_time": "2019-10-17T22:58:04.794713Z",
     "start_time": "2019-10-17T22:58:04.681098Z"
    }
   },
   "outputs": [],
   "source": [
    "model.summary()"
   ]
  },
  {
   "cell_type": "code",
   "execution_count": 31,
   "metadata": {
    "ExecuteTime": {
     "end_time": "2019-10-21T02:19:51.766123Z",
     "start_time": "2019-10-21T02:19:51.738312Z"
    }
   },
   "outputs": [],
   "source": [
    "model.add(Dense(256, use_bias=False)) # regular densely-connected NN layer with dimensions 256"
   ]
  },
  {
   "cell_type": "code",
   "execution_count": null,
   "metadata": {
    "ExecuteTime": {
     "end_time": "2019-10-17T22:58:09.076897Z",
     "start_time": "2019-10-17T22:58:08.965324Z"
    }
   },
   "outputs": [],
   "source": [
    "model.summary()"
   ]
  },
  {
   "cell_type": "code",
   "execution_count": 32,
   "metadata": {
    "ExecuteTime": {
     "end_time": "2019-10-21T02:19:54.183293Z",
     "start_time": "2019-10-21T02:19:54.105432Z"
    }
   },
   "outputs": [],
   "source": [
    "model.add(BatchNormalization())"
   ]
  },
  {
   "cell_type": "code",
   "execution_count": null,
   "metadata": {
    "ExecuteTime": {
     "end_time": "2019-10-17T22:58:13.065573Z",
     "start_time": "2019-10-17T22:58:12.951835Z"
    }
   },
   "outputs": [],
   "source": [
    "model.summary()"
   ]
  },
  {
   "cell_type": "code",
   "execution_count": 33,
   "metadata": {
    "ExecuteTime": {
     "end_time": "2019-10-21T02:19:55.835598Z",
     "start_time": "2019-10-21T02:19:55.803701Z"
    }
   },
   "outputs": [],
   "source": [
    "model.add(Activation(\"relu\")) # Applies an activation function to an output, retains shape"
   ]
  },
  {
   "cell_type": "code",
   "execution_count": null,
   "metadata": {
    "ExecuteTime": {
     "end_time": "2019-10-17T22:58:17.034449Z",
     "start_time": "2019-10-17T22:58:16.917609Z"
    }
   },
   "outputs": [],
   "source": [
    "model.summary()"
   ]
  },
  {
   "cell_type": "code",
   "execution_count": 34,
   "metadata": {
    "ExecuteTime": {
     "end_time": "2019-10-21T02:19:58.073837Z",
     "start_time": "2019-10-21T02:19:58.038968Z"
    }
   },
   "outputs": [
    {
     "name": "stdout",
     "output_type": "stream",
     "text": [
      "WARNING:tensorflow:From /home/bithika/local/anaconda3/envs/tf_gpu/lib/python3.7/site-packages/keras/backend/tensorflow_backend.py:3445: calling dropout (from tensorflow.python.ops.nn_ops) with keep_prob is deprecated and will be removed in a future version.\n",
      "Instructions for updating:\n",
      "Please use `rate` instead of `keep_prob`. Rate should be set to `rate = 1 - keep_prob`.\n"
     ]
    }
   ],
   "source": [
    "model.add(Dropout(DROPOUT_RATE)) # this core layer randomly sets a fraction of input units to\n",
    "# 0 at each update during training time, which helps prevent overfitting\n",
    "# Arguments: rate: float between 0 and 1. Fraction of the input units to drop.\n",
    "# See https://towardsdatascience.com/simplified-math-behind-dropout-in-deep-learning-6d50f3f47275\n"
   ]
  },
  {
   "cell_type": "code",
   "execution_count": 35,
   "metadata": {
    "ExecuteTime": {
     "end_time": "2019-10-21T02:20:40.517061Z",
     "start_time": "2019-10-21T02:20:40.490208Z"
    },
    "scrolled": true
   },
   "outputs": [
    {
     "name": "stdout",
     "output_type": "stream",
     "text": [
      "_________________________________________________________________\n",
      "Layer (type)                 Output Shape              Param #   \n",
      "=================================================================\n",
      "resnet50 (Model)             (None, 7, 7, 2048)        23587712  \n",
      "_________________________________________________________________\n",
      "flatten_1 (Flatten)          (None, 100352)            0         \n",
      "_________________________________________________________________\n",
      "dense_1 (Dense)              (None, 256)               25690112  \n",
      "_________________________________________________________________\n",
      "batch_normalization_1 (Batch (None, 256)               1024      \n",
      "_________________________________________________________________\n",
      "activation_50 (Activation)   (None, 256)               0         \n",
      "_________________________________________________________________\n",
      "dropout_1 (Dropout)          (None, 256)               0         \n",
      "=================================================================\n",
      "Total params: 49,278,848\n",
      "Trainable params: 49,225,216\n",
      "Non-trainable params: 53,632\n",
      "_________________________________________________________________\n"
     ]
    }
   ],
   "source": [
    "model.summary()"
   ]
  },
  {
   "cell_type": "code",
   "execution_count": 36,
   "metadata": {
    "ExecuteTime": {
     "end_time": "2019-10-21T02:20:46.042136Z",
     "start_time": "2019-10-21T02:20:46.003163Z"
    }
   },
   "outputs": [],
   "source": [
    "model.add(Dense(1,activation= 'sigmoid'))"
   ]
  },
  {
   "cell_type": "code",
   "execution_count": 37,
   "metadata": {
    "ExecuteTime": {
     "end_time": "2019-10-21T02:20:48.457824Z",
     "start_time": "2019-10-21T02:20:48.419736Z"
    }
   },
   "outputs": [
    {
     "name": "stdout",
     "output_type": "stream",
     "text": [
      "_________________________________________________________________\n",
      "Layer (type)                 Output Shape              Param #   \n",
      "=================================================================\n",
      "resnet50 (Model)             (None, 7, 7, 2048)        23587712  \n",
      "_________________________________________________________________\n",
      "flatten_1 (Flatten)          (None, 100352)            0         \n",
      "_________________________________________________________________\n",
      "dense_1 (Dense)              (None, 256)               25690112  \n",
      "_________________________________________________________________\n",
      "batch_normalization_1 (Batch (None, 256)               1024      \n",
      "_________________________________________________________________\n",
      "activation_50 (Activation)   (None, 256)               0         \n",
      "_________________________________________________________________\n",
      "dropout_1 (Dropout)          (None, 256)               0         \n",
      "_________________________________________________________________\n",
      "dense_2 (Dense)              (None, 1)                 257       \n",
      "=================================================================\n",
      "Total params: 49,279,105\n",
      "Trainable params: 49,225,473\n",
      "Non-trainable params: 53,632\n",
      "_________________________________________________________________\n"
     ]
    }
   ],
   "source": [
    "model.summary()"
   ]
  },
  {
   "cell_type": "markdown",
   "metadata": {},
   "source": [
    "Now we need to train the last few layers instead of just the last one. This is because of the size-similarity argument our problem belongs to the quadrant one . "
   ]
  },
  {
   "cell_type": "code",
   "execution_count": 38,
   "metadata": {
    "ExecuteTime": {
     "end_time": "2019-10-21T02:20:51.907294Z",
     "start_time": "2019-10-21T02:20:51.880431Z"
    }
   },
   "outputs": [
    {
     "name": "stdout",
     "output_type": "stream",
     "text": [
      "input_1\n",
      "conv1_pad\n",
      "conv1\n",
      "bn_conv1\n",
      "activation_1\n",
      "pool1_pad\n",
      "max_pooling2d_1\n",
      "res2a_branch2a\n",
      "bn2a_branch2a\n",
      "activation_2\n",
      "res2a_branch2b\n",
      "bn2a_branch2b\n",
      "activation_3\n",
      "res2a_branch2c\n",
      "res2a_branch1\n",
      "bn2a_branch2c\n",
      "bn2a_branch1\n",
      "add_1\n",
      "activation_4\n",
      "res2b_branch2a\n",
      "bn2b_branch2a\n",
      "activation_5\n",
      "res2b_branch2b\n",
      "bn2b_branch2b\n",
      "activation_6\n",
      "res2b_branch2c\n",
      "bn2b_branch2c\n",
      "add_2\n",
      "activation_7\n",
      "res2c_branch2a\n",
      "bn2c_branch2a\n",
      "activation_8\n",
      "res2c_branch2b\n",
      "bn2c_branch2b\n",
      "activation_9\n",
      "res2c_branch2c\n",
      "bn2c_branch2c\n",
      "add_3\n",
      "activation_10\n",
      "res3a_branch2a\n",
      "bn3a_branch2a\n",
      "activation_11\n",
      "res3a_branch2b\n",
      "bn3a_branch2b\n",
      "activation_12\n",
      "res3a_branch2c\n",
      "res3a_branch1\n",
      "bn3a_branch2c\n",
      "bn3a_branch1\n",
      "add_4\n",
      "activation_13\n",
      "res3b_branch2a\n",
      "bn3b_branch2a\n",
      "activation_14\n",
      "res3b_branch2b\n",
      "bn3b_branch2b\n",
      "activation_15\n",
      "res3b_branch2c\n",
      "bn3b_branch2c\n",
      "add_5\n",
      "activation_16\n",
      "res3c_branch2a\n",
      "bn3c_branch2a\n",
      "activation_17\n",
      "res3c_branch2b\n",
      "bn3c_branch2b\n",
      "activation_18\n",
      "res3c_branch2c\n",
      "bn3c_branch2c\n",
      "add_6\n",
      "activation_19\n",
      "res3d_branch2a\n",
      "bn3d_branch2a\n",
      "activation_20\n",
      "res3d_branch2b\n",
      "bn3d_branch2b\n",
      "activation_21\n",
      "res3d_branch2c\n",
      "bn3d_branch2c\n",
      "add_7\n",
      "activation_22\n",
      "res4a_branch2a\n",
      "bn4a_branch2a\n",
      "activation_23\n",
      "res4a_branch2b\n",
      "bn4a_branch2b\n",
      "activation_24\n",
      "res4a_branch2c\n",
      "res4a_branch1\n",
      "bn4a_branch2c\n",
      "bn4a_branch1\n",
      "add_8\n",
      "activation_25\n",
      "res4b_branch2a\n",
      "bn4b_branch2a\n",
      "activation_26\n",
      "res4b_branch2b\n",
      "bn4b_branch2b\n",
      "activation_27\n",
      "res4b_branch2c\n",
      "bn4b_branch2c\n",
      "add_9\n",
      "activation_28\n",
      "res4c_branch2a\n",
      "bn4c_branch2a\n",
      "activation_29\n",
      "res4c_branch2b\n",
      "bn4c_branch2b\n",
      "activation_30\n",
      "res4c_branch2c\n",
      "bn4c_branch2c\n",
      "add_10\n",
      "activation_31\n",
      "res4d_branch2a\n",
      "bn4d_branch2a\n",
      "activation_32\n",
      "res4d_branch2b\n",
      "bn4d_branch2b\n",
      "activation_33\n",
      "res4d_branch2c\n",
      "bn4d_branch2c\n",
      "add_11\n",
      "activation_34\n",
      "res4e_branch2a\n",
      "bn4e_branch2a\n",
      "activation_35\n",
      "res4e_branch2b\n",
      "bn4e_branch2b\n",
      "activation_36\n",
      "res4e_branch2c\n",
      "bn4e_branch2c\n",
      "add_12\n",
      "activation_37\n",
      "res4f_branch2a\n",
      "bn4f_branch2a\n",
      "activation_38\n",
      "res4f_branch2b\n",
      "bn4f_branch2b\n",
      "activation_39\n",
      "res4f_branch2c\n",
      "bn4f_branch2c\n",
      "add_13\n",
      "activation_40\n",
      "res5a_branch2a\n",
      "bn5a_branch2a\n",
      "activation_41\n",
      "res5a_branch2b\n",
      "bn5a_branch2b\n",
      "activation_42\n",
      "res5a_branch2c\n",
      "res5a_branch1\n",
      "bn5a_branch2c\n",
      "bn5a_branch1\n",
      "add_14\n",
      "activation_43\n",
      "res5b_branch2a\n",
      "bn5b_branch2a\n",
      "activation_44\n",
      "res5b_branch2b\n",
      "bn5b_branch2b\n",
      "activation_45\n",
      "res5b_branch2c\n",
      "bn5b_branch2c\n",
      "add_15\n",
      "activation_46\n",
      "res5c_branch2a\n",
      "bn5c_branch2a\n",
      "activation_47\n",
      "res5c_branch2b\n",
      "bn5c_branch2b\n",
      "activation_48\n",
      "res5c_branch2c\n",
      "bn5c_branch2c\n",
      "add_16\n",
      "activation_49\n"
     ]
    }
   ],
   "source": [
    "# look at the layers in conv_base \n",
    "for layer in ConvolutionalBase.layers:\n",
    "    print(layer.name)"
   ]
  },
  {
   "cell_type": "code",
   "execution_count": null,
   "metadata": {},
   "outputs": [],
   "source": [
    "# find the index of a layer 'res5a_branch2a'"
   ]
  },
  {
   "cell_type": "code",
   "execution_count": 39,
   "metadata": {
    "ExecuteTime": {
     "end_time": "2019-10-21T02:20:53.919049Z",
     "start_time": "2019-10-21T02:20:53.890736Z"
    }
   },
   "outputs": [],
   "source": [
    "def getLayerIndexByName(model, layername):\n",
    "    for idx, layer in enumerate(model.layers):\n",
    "        if layer.name == layername:\n",
    "            return idx"
   ]
  },
  {
   "cell_type": "code",
   "execution_count": 40,
   "metadata": {
    "ExecuteTime": {
     "end_time": "2019-10-21T02:20:56.578626Z",
     "start_time": "2019-10-21T02:20:56.548657Z"
    }
   },
   "outputs": [
    {
     "data": {
      "text/plain": [
       "143"
      ]
     },
     "execution_count": 40,
     "metadata": {},
     "output_type": "execute_result"
    }
   ],
   "source": [
    "getLayerIndexByName(ConvolutionalBase, 'res5a_branch2a')"
   ]
  },
  {
   "cell_type": "code",
   "execution_count": 41,
   "metadata": {
    "ExecuteTime": {
     "end_time": "2019-10-21T02:21:40.001008Z",
     "start_time": "2019-10-21T02:21:39.970511Z"
    }
   },
   "outputs": [
    {
     "name": "stdout",
     "output_type": "stream",
     "text": [
      "175\n"
     ]
    }
   ],
   "source": [
    "i = 0;\n",
    "for idx in enumerate(ConvolutionalBase.layers):\n",
    "        i += 1\n",
    "print(i)"
   ]
  },
  {
   "cell_type": "code",
   "execution_count": 42,
   "metadata": {
    "ExecuteTime": {
     "end_time": "2019-10-21T02:25:15.809562Z",
     "start_time": "2019-10-21T02:25:15.779415Z"
    }
   },
   "outputs": [],
   "source": [
    "set_trainable=False\n",
    "for layer in ConvolutionalBase.layers:\n",
    "    if layer.name == 'res5a_branch2a':\n",
    "        set_trainable = True\n",
    "    if set_trainable:\n",
    "        layer.trainable = True\n",
    "    else:\n",
    "        layer.trainable = False"
   ]
  },
  {
   "cell_type": "code",
   "execution_count": 43,
   "metadata": {
    "ExecuteTime": {
     "end_time": "2019-10-21T02:25:17.918367Z",
     "start_time": "2019-10-21T02:25:17.865683Z"
    }
   },
   "outputs": [
    {
     "name": "stdout",
     "output_type": "stream",
     "text": [
      "WARNING:tensorflow:From /home/bithika/local/anaconda3/envs/tf_gpu/lib/python3.7/site-packages/keras/optimizers.py:790: The name tf.train.Optimizer is deprecated. Please use tf.compat.v1.train.Optimizer instead.\n",
      "\n",
      "WARNING:tensorflow:From /home/bithika/local/anaconda3/envs/tf_gpu/lib/python3.7/site-packages/tensorflow/python/ops/nn_impl.py:180: add_dispatch_support.<locals>.wrapper (from tensorflow.python.ops.array_ops) is deprecated and will be removed in a future version.\n",
      "Instructions for updating:\n",
      "Use tf.where in 2.0, which has the same broadcast rule as np.where\n"
     ]
    }
   ],
   "source": [
    "# compile the model\n",
    "from keras import optimizers\n",
    "model.compile(optimizers.Adam(0.001), loss = \"binary_crossentropy\", metrics = [\"accuracy\"])"
   ]
  },
  {
   "cell_type": "code",
   "execution_count": null,
   "metadata": {},
   "outputs": [],
   "source": [
    "# Train model\n"
   ]
  },
  {
   "cell_type": "code",
   "execution_count": 44,
   "metadata": {
    "ExecuteTime": {
     "end_time": "2019-10-21T02:25:22.468483Z",
     "start_time": "2019-10-21T02:25:22.431427Z"
    }
   },
   "outputs": [],
   "source": [
    "Train_step_size = TrainGenerator.n // TrainGenerator.batch_size\n",
    "Valid_step_size = ValidGenerator.n // ValidGenerator.batch_size"
   ]
  },
  {
   "cell_type": "code",
   "execution_count": 45,
   "metadata": {
    "ExecuteTime": {
     "end_time": "2019-10-21T02:25:24.691683Z",
     "start_time": "2019-10-21T02:25:24.655735Z"
    }
   },
   "outputs": [],
   "source": [
    "# Stop training when a monitored quantity has stopped improving.\n",
    "early_stopper = EarlyStopping(monitor='val_loss', patience=3, verbose=2, restore_best_weights=True)\n",
    "# Reduce learning rate when a metric has stopped improving.\n",
    "reduce = ReduceLROnPlateau(monitor='val_loss', patience=1, verbose=1, factor=0.1)"
   ]
  },
  {
   "cell_type": "markdown",
   "metadata": {},
   "source": [
    "In keras, fit() is much similar to sklearn's fit method, where you pass array of features as x values and target as y values. You pass your whole dataset at once in fit method. Also, use it if you can load whole data into your memory (small dataset).\n",
    "\n",
    "In fit_generator(), you don't pass the x and y directly, instead they come from a generator. As it is written in keras documentation, generator is used when you want to avoid duplicate data when using multiprocessing. This is for practical purpose, when you have large dataset.\n",
    "\n",
    "Here is a link to understand more about this-\n",
    "\n",
    "A thing you should know about Keras if you plan to train a deep learning model on a large dataset\n",
    "\n",
    "For reference you can check this book- https://github.com/hktxt/bookshelf/blob/master/Computer%20Science/Deep%20Learning%20with%20Python%2C%20Fran%C3%A7ois%20Chollet.pdf"
   ]
  },
  {
   "cell_type": "code",
   "execution_count": null,
   "metadata": {},
   "outputs": [],
   "source": [
    "\n",
    "# Checkpoint the weights when validation accuracy improves\n",
    "from keras.callbacks import ModelCheckpoint"
   ]
  },
  {
   "cell_type": "code",
   "execution_count": null,
   "metadata": {},
   "outputs": [],
   "source": [
    "import h5py # needed to checkpoint: specifically to output network weights in HDF5 format.\n"
   ]
  },
  {
   "cell_type": "code",
   "execution_count": null,
   "metadata": {},
   "outputs": [],
   "source": [
    "# checkpoint \n",
    "filepath = os.path.join(checkpoint_dir, \"saved-model-{epoch:02d}-{val_acc:.3f}.hdf5\")\n",
    "# Setting 'save_weights_only' to False in the Keras callback 'ModelCheckpoint' will \n",
    "# save the full model\n",
    "checkpoint = ModelCheckpoint(filepath, monitor='val_loss',\n",
    "                             verbose=0, save_best_only=False, \n",
    "                             save_weights_only=False, mode='auto', period=1)"
   ]
  },
  {
   "cell_type": "code",
   "execution_count": null,
   "metadata": {},
   "outputs": [],
   "source": [
    "callback_list = [early_stopper, reduce, checkpoint]"
   ]
  },
  {
   "cell_type": "code",
   "execution_count": null,
   "metadata": {
    "ExecuteTime": {
     "start_time": "2019-10-17T23:05:37.191Z"
    }
   },
   "outputs": [],
   "source": [
    "history = model.fit_generator(TrainGenerator,\n",
    "                              steps_per_epoch=Train_step_size,\n",
    "                              epochs=1, verbose = 1,\n",
    "                              callbacks=[early_stopper, reduce],\n",
    "                              validation_data=ValidGenerator,\n",
    "                              validation_steps=Valid_step_size,\n",
    "                              use_multiprocessing = False)"
   ]
  },
  {
   "cell_type": "code",
   "execution_count": null,
   "metadata": {},
   "outputs": [],
   "source": []
  },
  {
   "cell_type": "code",
   "execution_count": null,
   "metadata": {},
   "outputs": [],
   "source": []
  },
  {
   "cell_type": "code",
   "execution_count": null,
   "metadata": {},
   "outputs": [],
   "source": []
  },
  {
   "cell_type": "code",
   "execution_count": null,
   "metadata": {
    "ExecuteTime": {
     "end_time": "2019-10-17T21:52:53.495493Z",
     "start_time": "2019-10-17T21:52:53.455881Z"
    }
   },
   "outputs": [],
   "source": [
    "help(keras.models.Sequential.fit_generator)"
   ]
  },
  {
   "cell_type": "code",
   "execution_count": null,
   "metadata": {
    "ExecuteTime": {
     "end_time": "2019-10-17T21:46:39.814732Z",
     "start_time": "2019-10-17T21:46:39.778665Z"
    }
   },
   "outputs": [],
   "source": [
    "TrainGenerator.batch_size"
   ]
  },
  {
   "cell_type": "code",
   "execution_count": null,
   "metadata": {
    "ExecuteTime": {
     "end_time": "2019-10-17T21:46:58.709974Z",
     "start_time": "2019-10-17T21:46:58.665689Z"
    }
   },
   "outputs": [],
   "source": [
    "TrainGenerator.n"
   ]
  },
  {
   "cell_type": "code",
   "execution_count": null,
   "metadata": {
    "ExecuteTime": {
     "end_time": "2019-10-17T21:47:51.938073Z",
     "start_time": "2019-10-17T21:47:51.888111Z"
    }
   },
   "outputs": [],
   "source": [
    "help(TrainGenerator.n)"
   ]
  },
  {
   "cell_type": "code",
   "execution_count": null,
   "metadata": {},
   "outputs": [],
   "source": []
  },
  {
   "cell_type": "code",
   "execution_count": null,
   "metadata": {},
   "outputs": [],
   "source": []
  },
  {
   "cell_type": "code",
   "execution_count": null,
   "metadata": {},
   "outputs": [],
   "source": []
  },
  {
   "cell_type": "code",
   "execution_count": 49,
   "metadata": {
    "ExecuteTime": {
     "end_time": "2019-10-21T02:41:53.855808Z",
     "start_time": "2019-10-21T02:41:53.823350Z"
    }
   },
   "outputs": [
    {
     "data": {
      "text/plain": [
       "'/home/bithika/ml/Kaggle/pcam/TEST'"
      ]
     },
     "execution_count": 49,
     "metadata": {},
     "output_type": "execute_result"
    }
   ],
   "source": [
    "TEST_PATH"
   ]
  },
  {
   "cell_type": "code",
   "execution_count": 50,
   "metadata": {
    "ExecuteTime": {
     "end_time": "2019-10-21T02:42:12.301558Z",
     "start_time": "2019-10-21T02:42:12.141125Z"
    }
   },
   "outputs": [
    {
     "name": "stdout",
     "output_type": "stream",
     "text": [
      "test\r\n"
     ]
    }
   ],
   "source": [
    "!ls /home/bithika/ml/Kaggle/pcam/TEST"
   ]
  },
  {
   "cell_type": "code",
   "execution_count": 52,
   "metadata": {
    "ExecuteTime": {
     "end_time": "2019-10-21T02:42:31.521737Z",
     "start_time": "2019-10-21T02:42:31.499896Z"
    }
   },
   "outputs": [
    {
     "data": {
      "text/plain": [
       "'/home/bithika/ml/Kaggle/pcam/TEST/test'"
      ]
     },
     "execution_count": 52,
     "metadata": {},
     "output_type": "execute_result"
    }
   ],
   "source": [
    "os.path.join(TEST_PATH,'test')"
   ]
  },
  {
   "cell_type": "code",
   "execution_count": 55,
   "metadata": {
    "ExecuteTime": {
     "end_time": "2019-10-21T02:44:00.347862Z",
     "start_time": "2019-10-21T02:44:00.203293Z"
    }
   },
   "outputs": [],
   "source": [
    "Test_df = pd.DataFrame({'path': glob(os.path.join(os.path.join(TEST_PATH,'test'), '*.tif'))})"
   ]
  },
  {
   "cell_type": "code",
   "execution_count": 61,
   "metadata": {
    "ExecuteTime": {
     "end_time": "2019-10-21T02:45:42.866340Z",
     "start_time": "2019-10-21T02:45:42.840045Z"
    }
   },
   "outputs": [
    {
     "data": {
      "text/plain": [
       "'/home/bithika/ml/Kaggle/pcam/TEST/test/3881910c59436471ff2e89d2f72f840e8509c8ef.tif'"
      ]
     },
     "execution_count": 61,
     "metadata": {},
     "output_type": "execute_result"
    }
   ],
   "source": [
    "Test_df.iloc[0].path"
   ]
  },
  {
   "cell_type": "code",
   "execution_count": 64,
   "metadata": {
    "ExecuteTime": {
     "end_time": "2019-10-21T02:46:40.025576Z",
     "start_time": "2019-10-21T02:46:40.004473Z"
    }
   },
   "outputs": [
    {
     "data": {
      "text/plain": [
       "'3881910c59436471ff2e89d2f72f840e8509c8ef'"
      ]
     },
     "execution_count": 64,
     "metadata": {},
     "output_type": "execute_result"
    }
   ],
   "source": [
    "Test_df.iloc[0].path.split('t/')[1].split('.')[0]"
   ]
  },
  {
   "cell_type": "code",
   "execution_count": 65,
   "metadata": {
    "ExecuteTime": {
     "end_time": "2019-10-21T02:46:58.992127Z",
     "start_time": "2019-10-21T02:46:58.934740Z"
    }
   },
   "outputs": [
    {
     "data": {
      "text/html": [
       "<div>\n",
       "<style scoped>\n",
       "    .dataframe tbody tr th:only-of-type {\n",
       "        vertical-align: middle;\n",
       "    }\n",
       "\n",
       "    .dataframe tbody tr th {\n",
       "        vertical-align: top;\n",
       "    }\n",
       "\n",
       "    .dataframe thead th {\n",
       "        text-align: right;\n",
       "    }\n",
       "</style>\n",
       "<table border=\"1\" class=\"dataframe\">\n",
       "  <thead>\n",
       "    <tr style=\"text-align: right;\">\n",
       "      <th></th>\n",
       "      <th>path</th>\n",
       "      <th>id</th>\n",
       "    </tr>\n",
       "  </thead>\n",
       "  <tbody>\n",
       "    <tr>\n",
       "      <td>0</td>\n",
       "      <td>/home/bithika/ml/Kaggle/pcam/TEST/test/3881910...</td>\n",
       "      <td>3881910c59436471ff2e89d2f72f840e8509c8ef</td>\n",
       "    </tr>\n",
       "    <tr>\n",
       "      <td>1</td>\n",
       "      <td>/home/bithika/ml/Kaggle/pcam/TEST/test/7ad2bed...</td>\n",
       "      <td>7ad2bed66e66f043c1c10cb3ee6f4d11869e3d0d</td>\n",
       "    </tr>\n",
       "    <tr>\n",
       "      <td>2</td>\n",
       "      <td>/home/bithika/ml/Kaggle/pcam/TEST/test/adfa3e7...</td>\n",
       "      <td>adfa3e7af9d481eb32390022829a2156b8682026</td>\n",
       "    </tr>\n",
       "  </tbody>\n",
       "</table>\n",
       "</div>"
      ],
      "text/plain": [
       "                                                path  \\\n",
       "0  /home/bithika/ml/Kaggle/pcam/TEST/test/3881910...   \n",
       "1  /home/bithika/ml/Kaggle/pcam/TEST/test/7ad2bed...   \n",
       "2  /home/bithika/ml/Kaggle/pcam/TEST/test/adfa3e7...   \n",
       "\n",
       "                                         id  \n",
       "0  3881910c59436471ff2e89d2f72f840e8509c8ef  \n",
       "1  7ad2bed66e66f043c1c10cb3ee6f4d11869e3d0d  \n",
       "2  adfa3e7af9d481eb32390022829a2156b8682026  "
      ]
     },
     "execution_count": 65,
     "metadata": {},
     "output_type": "execute_result"
    }
   ],
   "source": [
    "Test_df['id'] = Test_df.path.map(lambda x: (x.split('t/')[1].split('.')[0]))\n",
    "Test_df.head(3)"
   ]
  },
  {
   "cell_type": "code",
   "execution_count": 70,
   "metadata": {
    "ExecuteTime": {
     "end_time": "2019-10-21T02:52:29.916565Z",
     "start_time": "2019-10-21T02:52:29.896032Z"
    }
   },
   "outputs": [],
   "source": [
    "data_frame = pd.DataFrame({'path': Test_df.iloc[0,0]},index = [0])"
   ]
  },
  {
   "cell_type": "code",
   "execution_count": 71,
   "metadata": {
    "ExecuteTime": {
     "end_time": "2019-10-21T02:52:37.032980Z",
     "start_time": "2019-10-21T02:52:37.005417Z"
    }
   },
   "outputs": [
    {
     "data": {
      "text/html": [
       "<div>\n",
       "<style scoped>\n",
       "    .dataframe tbody tr th:only-of-type {\n",
       "        vertical-align: middle;\n",
       "    }\n",
       "\n",
       "    .dataframe tbody tr th {\n",
       "        vertical-align: top;\n",
       "    }\n",
       "\n",
       "    .dataframe thead th {\n",
       "        text-align: right;\n",
       "    }\n",
       "</style>\n",
       "<table border=\"1\" class=\"dataframe\">\n",
       "  <thead>\n",
       "    <tr style=\"text-align: right;\">\n",
       "      <th></th>\n",
       "      <th>path</th>\n",
       "    </tr>\n",
       "  </thead>\n",
       "  <tbody>\n",
       "    <tr>\n",
       "      <td>0</td>\n",
       "      <td>/home/bithika/ml/Kaggle/pcam/TEST/test/3881910...</td>\n",
       "    </tr>\n",
       "  </tbody>\n",
       "</table>\n",
       "</div>"
      ],
      "text/plain": [
       "                                                path\n",
       "0  /home/bithika/ml/Kaggle/pcam/TEST/test/3881910..."
      ]
     },
     "execution_count": 71,
     "metadata": {},
     "output_type": "execute_result"
    }
   ],
   "source": [
    "data_frame"
   ]
  },
  {
   "cell_type": "code",
   "execution_count": null,
   "metadata": {},
   "outputs": [],
   "source": []
  },
  {
   "cell_type": "code",
   "execution_count": null,
   "metadata": {},
   "outputs": [],
   "source": []
  },
  {
   "cell_type": "code",
   "execution_count": null,
   "metadata": {},
   "outputs": [],
   "source": []
  },
  {
   "cell_type": "markdown",
   "metadata": {},
   "source": [
    "##### explaination of the arguments: for ResNet50"
   ]
  },
  {
   "cell_type": "markdown",
   "metadata": {},
   "source": [
    "1. include_top: whether to include the fully connected layer at the top of the network. ResNet 50 is pretrained on Imagenet, we first classify our problem according to the size simlarity matrix. \n",
    "\n",
    "<table><tr><td><img src=\"size_sim_mat.png\" ></td><td><img src=\"decision_map.png\" >\n",
    "<caption><center> <u> <font color='purple'> Figure 2 </u><font color='purple'>  : Size-similarity matrix(left) and decision map for fine-tuning pre-trained models(right)  </center></caption>\n",
    "  Regarding data similarity:-let common sense prevail. For example, if your task is to identify cats and dogs, ImageNet would be a similar dataset because it has images of cats and dogs. However, if your task is to identify cancer cells, ImageNet can’t be considered a similar dataset. We are in quadrant one:  Large dataset, but different from the pre-trained model’s dataset. This situation will lead you to Strategy 1. Since you have a large dataset, you’re able to train a model from scratch and do whatever you want. Despite the dataset dissimilarity, in practice, it can still be useful to initialise your model from a pre-trained model, using its architecture and weights.\n",
    "    \n",
    "In short as we're using ResNEt50 trained on Imagene, we're going to need to train the last few layers instead of just the last one. Cell images are quite different to what you see on Imagenet\n",
    "\n",
    "2. weights: one of None (random initialization) or 'imagenet' (pre-training on ImageNet). we select 'imagenet'\n",
    "\n",
    "3. input_tensor: optional Keras tensor (i.e. output of layers.Input()) to use as image input for the model. we keep it none\n",
    "\n",
    "4. input_shape: optional shape tuple, only to be specified if include_top is False (otherwise the input shape has to be (224, 224, 3) (with 'channels_last' data format) or (3, 224, 224) (with 'channels_first' data format). It should have exactly 3 inputs channels, and width and height should be no smaller than 32. E.g. (200, 200, 3) would be one valid value. \n",
    "5. pooling: Optional pooling mode for feature extraction when include_top is False.:\n",
    "        - None means that the output of the model will be the 4D tensor output of the last convolutional block.\n",
    "        - 'avg' means that global average pooling will be applied to the output of the last convolutional block, and thus the output of the model will be a 2D tensor.\n",
    "       -- 'max' means that global max pooling will be applied.\n",
    "6. classes: optional number of classes to classify images into, only to be specified if include_top is True, and if no weights argument is specified."
   ]
  },
  {
   "cell_type": "markdown",
   "metadata": {},
   "source": [
    "**side note**\n",
    "ImageNet is formally a project aimed at (manually) labeling and categorizing images into almost 22,000 separate object categories for the purpose of computer vision research.\n",
    "\n",
    "However, when we hear the term “ImageNet” in the context of deep learning and Convolutional Neural Networks, we are likely referring to the ImageNet Large Scale Visual Recognition Challenge, or ILSVRC for short.\n",
    "\n",
    "The goal of this image classification challenge is to train a model that can correctly classify an input image into 1,000 separate object categories.\n",
    "\n",
    "Models are trained on ~1.2 million training images with another 50,000 images for validation and 100,000 images for testing.\n",
    "\n",
    "These 1,000 image categories represent object classes that we encounter in our day-to-day lives, such as species of dogs, cats, various household objects, vehicle types, and much more. You can find the full list of object categories in the ILSVRC challenge here.\n",
    "\n",
    "When it comes to image classification, the ImageNet challenge is the de facto benchmark for computer vision classification algorithms — and the leaderboard for this challenge has been dominated by Convolutional Neural Networks and deep learning techniques since 2012.\n",
    "\n",
    "The state-of-the-art pre-trained networks included in the Keras core library represent some of the highest performing Convolutional Neural Networks on the ImageNet challenge over the past few years. These networks also demonstrate a strong ability to generalize to images outside the ImageNet dataset via transfer learning, such as feature extraction and fine-tuning."
   ]
  },
  {
   "cell_type": "code",
   "execution_count": null,
   "metadata": {},
   "outputs": [],
   "source": []
  },
  {
   "cell_type": "code",
   "execution_count": null,
   "metadata": {},
   "outputs": [],
   "source": []
  },
  {
   "cell_type": "code",
   "execution_count": null,
   "metadata": {},
   "outputs": [],
   "source": []
  },
  {
   "cell_type": "code",
   "execution_count": null,
   "metadata": {},
   "outputs": [],
   "source": []
  },
  {
   "cell_type": "markdown",
   "metadata": {
    "ExecuteTime": {
     "end_time": "2019-10-09T14:51:27.905545Z",
     "start_time": "2019-10-09T14:51:27.840759Z"
    },
    "heading_collapsed": true
   },
   "source": [
    "### ResNets\n",
    "\n"
   ]
  },
  {
   "cell_type": "markdown",
   "metadata": {
    "hidden": true
   },
   "source": [
    "1. ##### INCLUDE PREPROCESS_INPUT\n",
    "2. #ResNet50\n",
    "keras.applications.resnet50.preprocess_input  <br> \n",
    "3. https://keras.io/applications/#resnet\n",
    "4. keep the pre-trained parameters fixed (ie. use the pre-trained models as feature extractors) as first attempt \n",
    "5. decide what optimization method to use ..seems like keras has issues with batch normalization\n"
   ]
  },
  {
   "cell_type": "code",
   "execution_count": null,
   "metadata": {
    "hidden": true
   },
   "outputs": [],
   "source": []
  },
  {
   "cell_type": "code",
   "execution_count": null,
   "metadata": {
    "hidden": true
   },
   "outputs": [],
   "source": []
  },
  {
   "cell_type": "code",
   "execution_count": null,
   "metadata": {
    "hidden": true
   },
   "outputs": [],
   "source": []
  }
 ],
 "metadata": {
  "kernelspec": {
   "display_name": "Python 3",
   "language": "python",
   "name": "python3"
  },
  "language_info": {
   "codemirror_mode": {
    "name": "ipython",
    "version": 3
   },
   "file_extension": ".py",
   "mimetype": "text/x-python",
   "name": "python",
   "nbconvert_exporter": "python",
   "pygments_lexer": "ipython3",
   "version": "3.7.4"
  }
 },
 "nbformat": 4,
 "nbformat_minor": 2
}
